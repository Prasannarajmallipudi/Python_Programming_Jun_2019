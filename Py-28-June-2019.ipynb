{
 "cells": [
  {
   "cell_type": "markdown",
   "metadata": {},
   "source": [
    "**Day Objectives**\n",
    "- Maps\n",
    "- Lambda\n",
    "- Filter\n",
    "- Use Cases - File / Data Encryption"
   ]
  },
  {
   "cell_type": "markdown",
   "metadata": {},
   "source": [
    "#### Map\n",
    "\n",
    "Mapping - Entity with Function \n",
    "\n",
    "f : x^2 + 3 *x + 9\n",
    "\n",
    "x:[1,10]\n",
    "\n",
    "f(x)\n",
    "\n",
    "map(function, Iterable)"
   ]
  },
  {
   "cell_type": "code",
   "execution_count": 8,
   "metadata": {},
   "outputs": [
    {
     "data": {
      "text/plain": [
       "16"
      ]
     },
     "execution_count": 8,
     "metadata": {},
     "output_type": "execute_result"
    }
   ],
   "source": [
    "def powerN(a,n):\n",
    "    #return a ** n\n",
    "    r = 1\n",
    "    for i in range(n):\n",
    "        r *= a\n",
    "        \n",
    "    return r\n",
    "powerN(2,10)\n",
    "\n",
    "def recursivePowerN(a,n):\n",
    "    if n == 0:\n",
    "        return 1\n",
    "    else:\n",
    "        return a * recursivePowerN(a,n-1)\n",
    "    \n",
    "recursivePowerN(2,4)    "
   ]
  },
  {
   "cell_type": "code",
   "execution_count": 11,
   "metadata": {},
   "outputs": [
    {
     "data": {
      "text/plain": [
       "{1, 8, 27, 64, 125, 216}"
      ]
     },
     "execution_count": 11,
     "metadata": {},
     "output_type": "execute_result"
    }
   ],
   "source": [
    "def cube(n):\n",
    "    return n ** 3\n",
    "li = [1,2,3,4,5,6]\n",
    "\n",
    "set(map(cube,li))"
   ]
  },
  {
   "cell_type": "code",
   "execution_count": 54,
   "metadata": {},
   "outputs": [
    {
     "data": {
      "text/plain": [
       "[1, 8, 27, 64, 125, 216]"
      ]
     },
     "execution_count": 54,
     "metadata": {},
     "output_type": "execute_result"
    }
   ],
   "source": [
    "def cube(n):\n",
    "    return n ** 3\n",
    "li = ['1','2','3','4','5','6']\n",
    "\n",
    "li2= list(map(int,li))\n",
    "\n",
    "list(map(float,li2))\n",
    "\n",
    "numbers = [int(i) for i in li]\n",
    "\n",
    "[cube(i) for i in numbers]\n",
    "\n",
    "#li2"
   ]
  },
  {
   "cell_type": "markdown",
   "metadata": {},
   "source": [
    "#### Filter\n",
    "\n",
    "Used to check boolean values"
   ]
  },
  {
   "cell_type": "code",
   "execution_count": 30,
   "metadata": {},
   "outputs": [
    {
     "data": {
      "text/plain": [
       "['a', 'b', 'c']"
      ]
     },
     "execution_count": 30,
     "metadata": {},
     "output_type": "execute_result"
    }
   ],
   "source": [
    "li = [1,2,3,4,5,'a','b','c']\n",
    "def isDigit(c):\n",
    "    c =str(c)\n",
    "    if c.isdigit():\n",
    "        \n",
    "        return 0\n",
    "    \n",
    "    return 1\n",
    "isDigit('a')\n",
    "list(filter(isDigit,li))\n"
   ]
  },
  {
   "cell_type": "code",
   "execution_count": 52,
   "metadata": {},
   "outputs": [
    {
     "name": "stdout",
     "output_type": "stream",
     "text": [
      "[503, 509, 521, 523, 541, 547, 557, 563, 569, 571, 577, 587, 593, 599]\n",
      "[503, 509, 521, 523, 541, 547, 557, 563, 569, 571, 577, 587, 593, 599]\n"
     ]
    }
   ],
   "source": [
    "# Identify all primes in a range\n",
    "#li = [1,2,3,4,5,6,7]\n",
    "def checkPrime(n):\n",
    "    if n<2:\n",
    "        return False\n",
    "    \n",
    "    for i in range(2,n//2+1):\n",
    "        if n % i== 0:\n",
    "            return False\n",
    "    return True\n",
    "    \n",
    "lb,ub = 500, 600\n",
    "    \n",
    "primeList = list(filter(checkPrime,range(lb,ub)))\n",
    "\n",
    "primeList2 =[i for i in range(lb,ub+1) if checkPrime(i)]\n",
    "\n",
    "# Map fails because it does'nt \n",
    "\n",
    "print(primeList)\n",
    "print(primeList2)   "
   ]
  },
  {
   "cell_type": "markdown",
   "metadata": {},
   "source": [
    "### Lambda\n",
    "\n",
    "- Anonymous Functions\n",
    "\n",
    "- Can be embebbed into List comprheneshion,Maps,Filters\n"
   ]
  },
  {
   "cell_type": "code",
   "execution_count": 68,
   "metadata": {},
   "outputs": [
    {
     "data": {
      "text/plain": [
       "[1, 3, 5]"
      ]
     },
     "execution_count": 68,
     "metadata": {},
     "output_type": "execute_result"
    }
   ],
   "source": [
    "\n",
    "#a =lambda x : x ** 3\n",
    "#a(6)\n",
    "list(map(lambda x:x**3,[1,2,3,4,5,6]))\n",
    "\n",
    "list(filter(lambda x: (x % 2!=0),[1,2,3,4,5,6]))"
   ]
  },
  {
   "cell_type": "code",
   "execution_count": 84,
   "metadata": {},
   "outputs": [
    {
     "data": {
      "text/plain": [
       "[1, 2, 7, 7]"
      ]
     },
     "execution_count": 84,
     "metadata": {},
     "output_type": "execute_result"
    }
   ],
   "source": [
    "#import random\n",
    "\n",
    "# internal1 = [random.randint(0,25) for i in range(10)]\n",
    "# internal2 = [random.randint(0,25) for i in range(10)]\n",
    "internal1=[1,2,6,8]\n",
    "internal2=[1,2,8,6]\n",
    "averageInternal = list(map(lambda x,y: (x+y)//2,internal1,internal2))\n",
    "\n",
    "#failedMarks = list(filter(lambda x: x<15,list(map(internal1,internal2))))\n",
    "averageInternal"
   ]
  },
  {
   "cell_type": "code",
   "execution_count": null,
   "metadata": {},
   "outputs": [],
   "source": []
  },
  {
   "cell_type": "markdown",
   "metadata": {},
   "source": [
    "#### Applying Functional Programming to the Marks Analysis Application"
   ]
  },
  {
   "cell_type": "code",
   "execution_count": 106,
   "metadata": {},
   "outputs": [],
   "source": [
    "# Generate Marks Data\n",
    "\n",
    "from random import randint\n",
    "def generateMarks(n, lb, ub):\n",
    "    filename = 'Datafiles/marks.txt'\n",
    "    with open(filename,'w') as f:\n",
    "        for i in range(n):\n",
    "            marks = randint(lb,ub)\n",
    "            f.write(str(marks)+'\\n')\n",
    "            \n",
    "    return       \n",
    "generateMarks(300, 0, 100)"
   ]
  },
  {
   "cell_type": "code",
   "execution_count": 109,
   "metadata": {},
   "outputs": [
    {
     "data": {
      "text/plain": [
       "[83,\n",
       " 46,\n",
       " 56,\n",
       " 39,\n",
       " 29,\n",
       " 35,\n",
       " 25,\n",
       " 54,\n",
       " 89,\n",
       " 61,\n",
       " 76,\n",
       " 20,\n",
       " 45,\n",
       " 86,\n",
       " 79,\n",
       " 90,\n",
       " 81,\n",
       " 17,\n",
       " 30,\n",
       " 77,\n",
       " 34,\n",
       " 37,\n",
       " 92,\n",
       " 94,\n",
       " 91,\n",
       " 69,\n",
       " 64,\n",
       " 82,\n",
       " 100,\n",
       " 27,\n",
       " 81,\n",
       " 20,\n",
       " 18,\n",
       " 77,\n",
       " 5,\n",
       " 19,\n",
       " 32,\n",
       " 70,\n",
       " 15,\n",
       " 63,\n",
       " 23,\n",
       " 44,\n",
       " 12,\n",
       " 97,\n",
       " 92,\n",
       " 21,\n",
       " 60,\n",
       " 4,\n",
       " 72,\n",
       " 1,\n",
       " 71,\n",
       " 57,\n",
       " 90,\n",
       " 49,\n",
       " 53,\n",
       " 14,\n",
       " 88,\n",
       " 55,\n",
       " 39,\n",
       " 74,\n",
       " 39,\n",
       " 13,\n",
       " 52,\n",
       " 6,\n",
       " 8,\n",
       " 95,\n",
       " 70,\n",
       " 72,\n",
       " 92,\n",
       " 89,\n",
       " 45,\n",
       " 90,\n",
       " 43,\n",
       " 83,\n",
       " 51,\n",
       " 21,\n",
       " 9,\n",
       " 76,\n",
       " 88,\n",
       " 49,\n",
       " 45,\n",
       " 20,\n",
       " 51,\n",
       " 81,\n",
       " 0,\n",
       " 21,\n",
       " 47,\n",
       " 57,\n",
       " 100,\n",
       " 4,\n",
       " 13,\n",
       " 73,\n",
       " 74,\n",
       " 27,\n",
       " 20,\n",
       " 22,\n",
       " 42,\n",
       " 48,\n",
       " 36,\n",
       " 64,\n",
       " 59,\n",
       " 75,\n",
       " 70,\n",
       " 24,\n",
       " 41,\n",
       " 66,\n",
       " 90,\n",
       " 81,\n",
       " 49,\n",
       " 86,\n",
       " 78,\n",
       " 63,\n",
       " 72,\n",
       " 46,\n",
       " 93,\n",
       " 45,\n",
       " 85,\n",
       " 11,\n",
       " 100,\n",
       " 68,\n",
       " 53,\n",
       " 48,\n",
       " 40,\n",
       " 6,\n",
       " 84,\n",
       " 83,\n",
       " 47,\n",
       " 1,\n",
       " 23,\n",
       " 62,\n",
       " 61,\n",
       " 77,\n",
       " 33,\n",
       " 94,\n",
       " 2,\n",
       " 1,\n",
       " 77,\n",
       " 17,\n",
       " 26,\n",
       " 85,\n",
       " 65,\n",
       " 73,\n",
       " 59,\n",
       " 52,\n",
       " 1,\n",
       " 35,\n",
       " 35,\n",
       " 78,\n",
       " 6,\n",
       " 16,\n",
       " 41,\n",
       " 6,\n",
       " 15,\n",
       " 49,\n",
       " 87,\n",
       " 51,\n",
       " 65,\n",
       " 47,\n",
       " 64,\n",
       " 98,\n",
       " 67,\n",
       " 29,\n",
       " 37,\n",
       " 16,\n",
       " 99,\n",
       " 37,\n",
       " 45,\n",
       " 69,\n",
       " 43,\n",
       " 14,\n",
       " 85,\n",
       " 90,\n",
       " 86,\n",
       " 16,\n",
       " 51,\n",
       " 77,\n",
       " 70,\n",
       " 44,\n",
       " 21,\n",
       " 94,\n",
       " 62,\n",
       " 94,\n",
       " 85,\n",
       " 15,\n",
       " 98,\n",
       " 23,\n",
       " 84,\n",
       " 28,\n",
       " 53,\n",
       " 75,\n",
       " 97,\n",
       " 39,\n",
       " 21,\n",
       " 87,\n",
       " 50,\n",
       " 67,\n",
       " 44,\n",
       " 81,\n",
       " 16,\n",
       " 13,\n",
       " 14,\n",
       " 44,\n",
       " 12,\n",
       " 78,\n",
       " 25,\n",
       " 20,\n",
       " 96,\n",
       " 86,\n",
       " 81,\n",
       " 55,\n",
       " 6,\n",
       " 30,\n",
       " 44,\n",
       " 52,\n",
       " 21,\n",
       " 65,\n",
       " 1,\n",
       " 68,\n",
       " 19,\n",
       " 23,\n",
       " 96,\n",
       " 9,\n",
       " 77,\n",
       " 99,\n",
       " 94,\n",
       " 11,\n",
       " 74,\n",
       " 65,\n",
       " 53,\n",
       " 79,\n",
       " 25,\n",
       " 27,\n",
       " 95,\n",
       " 33,\n",
       " 19,\n",
       " 53,\n",
       " 28,\n",
       " 58,\n",
       " 58,\n",
       " 42,\n",
       " 3,\n",
       " 23,\n",
       " 6,\n",
       " 3,\n",
       " 52,\n",
       " 18,\n",
       " 77,\n",
       " 63,\n",
       " 7,\n",
       " 82,\n",
       " 18,\n",
       " 37,\n",
       " 50,\n",
       " 39,\n",
       " 51,\n",
       " 27,\n",
       " 70,\n",
       " 96,\n",
       " 91,\n",
       " 11,\n",
       " 40,\n",
       " 19,\n",
       " 93,\n",
       " 86,\n",
       " 55,\n",
       " 45,\n",
       " 5,\n",
       " 56,\n",
       " 87,\n",
       " 23,\n",
       " 34,\n",
       " 100,\n",
       " 10,\n",
       " 7,\n",
       " 34,\n",
       " 68,\n",
       " 75,\n",
       " 87,\n",
       " 100,\n",
       " 84,\n",
       " 25,\n",
       " 99,\n",
       " 88,\n",
       " 19,\n",
       " 54,\n",
       " 50,\n",
       " 77,\n",
       " 19,\n",
       " 42,\n",
       " 2,\n",
       " 100,\n",
       " 38,\n",
       " 93,\n",
       " 14,\n",
       " 12,\n",
       " 17,\n",
       " 98,\n",
       " 83,\n",
       " 80,\n",
       " 34]"
      ]
     },
     "execution_count": 109,
     "metadata": {},
     "output_type": "execute_result"
    }
   ],
   "source": [
    "# Marks Analysis\n",
    "# Class Average, % of passed,Failed and Distinction,Frequency of Highest & Lowest Mark\n",
    "def readMarkList(filename):\n",
    "\n",
    "    with open(filename,'r') as f:\n",
    "        filedata=f.read().split()\n",
    "    return list(map(int,filedata))\n",
    "    \n",
    "def classAverage(filename):\n",
    "    with open(filename,'r') as f:\n",
    "        filedata = f.read().split()\n",
    "    #marklist = re.split('\\n',filedata)\n",
    "    markslist = list(map(int,filedata))\n",
    "    return sum(markslist)//len(markslist)\n",
    "filename = 'Datafiles/marks.txt'\n",
    "#classAverage(filename)\n",
    "readMarkList(filename)"
   ]
  },
  {
   "cell_type": "code",
   "execution_count": 112,
   "metadata": {},
   "outputs": [
    {
     "data": {
      "text/plain": [
       "37.666666666666664"
      ]
     },
     "execution_count": 112,
     "metadata": {},
     "output_type": "execute_result"
    }
   ],
   "source": [
    "def percentageFailed(filename):\n",
    "    markslist = readMarkList(filename)\n",
    "    failedcount = len(list(filter(lambda mark : mark < 40,markslist)))\n",
    "    return (failedcount/len(markslist))/(1/100)\n",
    "\n",
    "percentageFailed(filename)"
   ]
  },
  {
   "cell_type": "code",
   "execution_count": 113,
   "metadata": {},
   "outputs": [
    {
     "data": {
      "text/plain": [
       "62.333333333333336"
      ]
     },
     "execution_count": 113,
     "metadata": {},
     "output_type": "execute_result"
    }
   ],
   "source": [
    "def percentagePassed(filename):\n",
    "    return 100 - percentageFailed(filename)\n",
    "percentagePassed(filename)"
   ]
  },
  {
   "cell_type": "code",
   "execution_count": 114,
   "metadata": {},
   "outputs": [
    {
     "data": {
      "text/plain": [
       "32.666666666666664"
      ]
     },
     "execution_count": 114,
     "metadata": {},
     "output_type": "execute_result"
    }
   ],
   "source": [
    "def percentageDistinction(filename):\n",
    "    markslist = readMarkList(filename)\n",
    "    distinctioncount = len(list(filter(lambda mark : mark > 70,markslist)))\n",
    "    return (distinctioncount/len(markslist))/(1/100)\n",
    "percentageDistinction(filename)"
   ]
  },
  {
   "cell_type": "code",
   "execution_count": 118,
   "metadata": {},
   "outputs": [
    {
     "data": {
      "text/plain": [
       "6"
      ]
     },
     "execution_count": 118,
     "metadata": {},
     "output_type": "execute_result"
    }
   ],
   "source": [
    "def highestMarksFrequency(filename):\n",
    "    markslist = readMarkList(filename)\n",
    "    return markslist.count(max(markslist))\n",
    "highestMarksFrequency(filename)"
   ]
  },
  {
   "cell_type": "code",
   "execution_count": 119,
   "metadata": {},
   "outputs": [
    {
     "data": {
      "text/plain": [
       "1"
      ]
     },
     "execution_count": 119,
     "metadata": {},
     "output_type": "execute_result"
    }
   ],
   "source": [
    "def lowestMarksFrequency(filename):\n",
    "    markslist = readMarkList(filename)\n",
    "    return markslist.count(min(markslist))\n",
    "lowestMarksFrequency(filename)"
   ]
  },
  {
   "cell_type": "code",
   "execution_count": null,
   "metadata": {},
   "outputs": [],
   "source": []
  },
  {
   "cell_type": "markdown",
   "metadata": {},
   "source": [
    "#### Data Encryption\n",
    "\n",
    "Key - Mapping of character  with replaced \n",
    "\n",
    "0 -> 4\n",
    "1 -> 5\n",
    "2 -> 6\n",
    "3 -> 7\n",
    "4 -> 8\n",
    "5 -> 9\n",
    "6 -> 0\n",
    "7 -> 1\n",
    "8 -> 2\n",
    "9 -> 3\n",
    "\n"
   ]
  },
  {
   "cell_type": "code",
   "execution_count": 121,
   "metadata": {},
   "outputs": [],
   "source": [
    "# Function of generate key for encryption\n",
    "keypath = 'Datafiles/key.txt'\n",
    "def generateKey(keypath):\n",
    "    with open(keypath,'w') as f:\n",
    "        for i in range(10):\n",
    "            if i < 6:\n",
    "                f.write(str(i)+ ' '+str(i+4)+'\\n')\n",
    "            else:\n",
    "                f.write(str(i)+ ' '+ str(i-6)+'\\n')\n",
    "    return\n",
    "\n",
    "generateKey(keypath)               \n",
    "                "
   ]
  },
  {
   "cell_type": "code",
   "execution_count": 123,
   "metadata": {},
   "outputs": [
    {
     "data": {
      "text/plain": [
       "{'0': '4',\n",
       " '1': '5',\n",
       " '2': '6',\n",
       " '3': '7',\n",
       " '4': '8',\n",
       " '5': '9',\n",
       " '6': '0',\n",
       " '7': '1',\n",
       " '8': '2',\n",
       " '9': '3'}"
      ]
     },
     "execution_count": 123,
     "metadata": {},
     "output_type": "execute_result"
    }
   ],
   "source": [
    "# Function to encrypt a data file\n",
    "keyfile = \"Datafiles/key.txt\"\n",
    "def dictonaryKeyFile(keyfile):\n",
    "    key ={}\n",
    "    with open(keyfile,'r') as f:\n",
    "        for line in f:\n",
    "            line = line.split()\n",
    "            key[line[0]] = line[1]\n",
    "    return key\n",
    "\n",
    "dictonaryKeyFile(keyfile)\n",
    "#def encryptMarksData(datafile,keyfile):\n",
    "    # Construt a Dictionary for key Data\n",
    "    "
   ]
  },
  {
   "cell_type": "code",
   "execution_count": null,
   "metadata": {},
   "outputs": [],
   "source": []
  }
 ],
 "metadata": {
  "kernelspec": {
   "display_name": "Python 3",
   "language": "python",
   "name": "python3"
  },
  "language_info": {
   "codemirror_mode": {
    "name": "ipython",
    "version": 3
   },
   "file_extension": ".py",
   "mimetype": "text/x-python",
   "name": "python",
   "nbconvert_exporter": "python",
   "pygments_lexer": "ipython3",
   "version": "3.7.3"
  }
 },
 "nbformat": 4,
 "nbformat_minor": 2
}
