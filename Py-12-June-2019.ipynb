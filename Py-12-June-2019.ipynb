{
 "cells": [
  {
   "cell_type": "markdown",
   "metadata": {},
   "source": [
    "## Problem Solving and Programming\n",
    "#### 12 June 2019\n",
    "#### Day Objectives\n",
    "- String Slicing\n",
    "- Functions in Python\n",
    "- Basics Problem related to conditional startements using functions\n",
    "- Iterartion in Python\n",
    "- Python Data structures -List,Tulpes,Dictonaries\n",
    "- Basic Operations on DS\n",
    "    - Applying DS to solve problems"
   ]
  },
  {
   "cell_type": "code",
   "execution_count": null,
   "metadata": {},
   "outputs": [],
   "source": []
  },
  {
   "cell_type": "markdown",
   "metadata": {},
   "source": [
    "### String Slicing"
   ]
  },
  {
   "cell_type": "code",
   "execution_count": 48,
   "metadata": {},
   "outputs": [
    {
     "data": {
      "text/plain": [
       "'ja'"
      ]
     },
     "execution_count": 48,
     "metadata": {},
     "output_type": "execute_result"
    }
   ],
   "source": [
    "a = \"Prasannarajmallipudi\"\n",
    "b = 'Avinash'\n",
    "\n",
    "# print(a)\n",
    "# print(b)\n",
    "# a[len(a)-1]\n",
    "a[0:11] # Forward indexing\n",
    "\n",
    "a[:-9] # Backward indexing\n",
    "\n",
    "a[0:]\n",
    "\n",
    "a[:]\n",
    "\n",
    "a[:-1]\n",
    "\n",
    "a[::-1]\n",
    "\n",
    "a[-7:-2]\n",
    "\n",
    "a[:-1]\n",
    "\n",
    "a[-5::-1]\n",
    "\n",
    "a[1:-1]\n",
    "\n",
    "a[1:len(a)]\n",
    "\n",
    "len(a)\n",
    "\n",
    "a[len(a)//2]\n",
    "\n",
    "a[::-1] # Reverse of String\n",
    "\n",
    "a[-1::-1]\n",
    "\n",
    "# Last two Charaters in reverse order\n",
    "a[-1:-3:-1]\n",
    "\n",
    "a[len(a)//2:len(a)//2-2:-1]"
   ]
  },
  {
   "cell_type": "code",
   "execution_count": 50,
   "metadata": {},
   "outputs": [
    {
     "data": {
      "text/plain": [
       "'nhy'"
      ]
     },
     "execution_count": 50,
     "metadata": {},
     "output_type": "execute_result"
    }
   ],
   "source": [
    "# Acessing alternative char in a string\n",
    "# \"Python\" --- \"Pto\"\n",
    "s1=\"Python\"\n",
    "s1[::2]\n",
    "\n",
    "# Accessing alterantive char of a string  in Reverese order\n",
    "# \"Python\" --- \"nhy\"\n",
    "s1=\"Python\"\n",
    "s1[::-2]\n"
   ]
  },
  {
   "cell_type": "markdown",
   "metadata": {},
   "source": [
    "### Functions"
   ]
  },
  {
   "cell_type": "code",
   "execution_count": 53,
   "metadata": {},
   "outputs": [
    {
     "data": {
      "text/plain": [
       "['False',\n",
       " 'None',\n",
       " 'True',\n",
       " 'and',\n",
       " 'as',\n",
       " 'assert',\n",
       " 'async',\n",
       " 'await',\n",
       " 'break',\n",
       " 'class',\n",
       " 'continue',\n",
       " 'def',\n",
       " 'del',\n",
       " 'elif',\n",
       " 'else',\n",
       " 'except',\n",
       " 'finally',\n",
       " 'for',\n",
       " 'from',\n",
       " 'global',\n",
       " 'if',\n",
       " 'import',\n",
       " 'in',\n",
       " 'is',\n",
       " 'lambda',\n",
       " 'nonlocal',\n",
       " 'not',\n",
       " 'or',\n",
       " 'pass',\n",
       " 'raise',\n",
       " 'return',\n",
       " 'try',\n",
       " 'while',\n",
       " 'with',\n",
       " 'yield']"
      ]
     },
     "execution_count": 53,
     "metadata": {},
     "output_type": "execute_result"
    }
   ],
   "source": [
    "import keyword\n",
    "keyword.kwlist"
   ]
  },
  {
   "cell_type": "code",
   "execution_count": 58,
   "metadata": {},
   "outputs": [
    {
     "data": {
      "text/plain": [
       "'jarannasarP'"
      ]
     },
     "execution_count": 58,
     "metadata": {},
     "output_type": "execute_result"
    }
   ],
   "source": [
    "# Functions to reverse a string\n",
    "def reverseString(s):\n",
    "    return s[::-1]\n",
    "reverseString(\"Prasannaraj\")"
   ]
  },
  {
   "cell_type": "code",
   "execution_count": 64,
   "metadata": {},
   "outputs": [
    {
     "data": {
      "text/plain": [
       "True"
      ]
     },
     "execution_count": 64,
     "metadata": {},
     "output_type": "execute_result"
    }
   ],
   "source": [
    "# Function to check if a string is a Palindrome\n",
    "\n",
    "def palindrome(s):\n",
    "    if s == s[::-1]:\n",
    "        return True\n",
    "    else:\n",
    "        return False\n",
    "    \n",
    "palindrome(\"d\")"
   ]
  },
  {
   "cell_type": "code",
   "execution_count": 46,
   "metadata": {},
   "outputs": [
    {
     "name": "stdout",
     "output_type": "stream",
     "text": [
      "True\n"
     ]
    }
   ],
   "source": [
    "'''\n",
    "import calendar\n",
    "print(\"2019 is leap Yr\",calendar.isleap(2019))\n",
    "print(\"2020 is leap Yr\",calendar.isleap(2020))\n",
    "'''\n",
    "\n",
    "# OR\n",
    "def leapyear(year):\n",
    "   if(year % 4 == 0 and (year % 100 != 0 or year % 400 == 0)):\n",
    "       print(True)\n",
    "   else:\n",
    "       print(False)\n",
    "leapyear(2000)\n"
   ]
  },
  {
   "cell_type": "code",
   "execution_count": 75,
   "metadata": {},
   "outputs": [
    {
     "name": "stdout",
     "output_type": "stream",
     "text": [
      "Enter a DIgitjhdsfjkvjdksbh1234567890\n",
      "10\n"
     ]
    }
   ],
   "source": [
    "#calculate the no of digits in a number\n",
    "def digit():\n",
    "    \n",
    "    n=input(\"Enter a DIgit\")\n",
    "    a=0\n",
    "    for i in n:\n",
    "        if i.isdigit():\n",
    "            a=a+1\n",
    "    print(a)\n",
    "digit()"
   ]
  },
  {
   "cell_type": "code",
   "execution_count": 74,
   "metadata": {},
   "outputs": [
    {
     "name": "stdout",
     "output_type": "stream",
     "text": [
      "Enter the first No12\n",
      "Enter the Second No13\n",
      "Enter the Thrid No14\n",
      "Enter the Fourth No15\n",
      "15 is the Greatset\n"
     ]
    }
   ],
   "source": [
    "# Greastest of 4 Numbers\n",
    "def four():\n",
    "        \n",
    "    a=int(input(\"Enter the first No\"))\n",
    "\n",
    "    b=int(input(\"Enter the Second No\"))\n",
    "    c=int(input(\"Enter the Thrid No\"))\n",
    "    d=int(input(\"Enter the Fourth No\"))\n",
    "\n",
    "    if (a>b and a>c) and a>d:\n",
    "    \n",
    "        print(a,\"is the Greatset\")\n",
    "\n",
    "    elif (b>c and b>a) and b>d :\n",
    "    \n",
    "        print(b,\"is the Greatset\")\n",
    "    elif (c>a and c>b) and c>d :\n",
    "    \n",
    "        print(c,\"is the Greatset\")\n",
    "    else:\n",
    "    \n",
    "        print(d,\"is the Greatset\")\n",
    "four()"
   ]
  },
  {
   "cell_type": "code",
   "execution_count": null,
   "metadata": {},
   "outputs": [],
   "source": []
  },
  {
   "cell_type": "markdown",
   "metadata": {},
   "source": [
    "### Iteration\n",
    "- for\n",
    "- while"
   ]
  },
  {
   "cell_type": "code",
   "execution_count": 85,
   "metadata": {},
   "outputs": [
    {
     "name": "stdout",
     "output_type": "stream",
     "text": [
      "1 2 3 4 5 6 7 8 9 10 11 12 13 14 "
     ]
    }
   ],
   "source": [
    "# Function to print n natural numbers\n",
    "def naturalno(n):\n",
    "    for i in range(1,n+1):\n",
    "        print(i,end=\" \")\n",
    "    '''for i in range(n,0,-1):\n",
    "        print(i,end=\" \")'''\n",
    "naturalno(14)\n",
    "        \n"
   ]
  },
  {
   "cell_type": "code",
   "execution_count": 91,
   "metadata": {},
   "outputs": [
    {
     "name": "stdout",
     "output_type": "stream",
     "text": [
      "enter a number1\n",
      "enter a number2\n",
      "enter a number3\n",
      "enter a number \n",
      "[1, 2, 3]\n"
     ]
    }
   ],
   "source": [
    "l=[]\n",
    "while True:\n",
    "   a=input(\"enter a number\")\n",
    "   if a.isdigit():\n",
    "       a=int(a)\n",
    "       l.append(a)\n",
    "   else:\n",
    "       break\n",
    "print(sorted(l))"
   ]
  },
  {
   "cell_type": "code",
   "execution_count": 89,
   "metadata": {},
   "outputs": [
    {
     "name": "stdout",
     "output_type": "stream",
     "text": [
      "1 2 3 4 5 6 7 8 9 "
     ]
    }
   ],
   "source": [
    "# Function to print n natural numbers using while loop\n",
    "def nnnumbers(n):\n",
    "    c=1\n",
    "    while c <= n:\n",
    "        print(c,end =\" \")\n",
    "        c=c+1\n",
    "    return\n",
    "nnnumbers(9)"
   ]
  },
  {
   "cell_type": "code",
   "execution_count": 95,
   "metadata": {},
   "outputs": [
    {
     "name": "stdout",
     "output_type": "stream",
     "text": [
      "6 12 18 24 30 36 42 48 54 60 66 72 78 84 90 96 "
     ]
    }
   ],
   "source": [
    "# Function to print all numbers divisible by 6\n",
    "# and not a factor of 100 in a given range (lb, ub) inclusive\n",
    "\n",
    "def divides(lb,ub):\n",
    "    for i in range(lb,ub):\n",
    "        if (i%6==0 and  i%100!=0):\n",
    "            print(i,end=\" \")\n",
    "divides(3,98)\n"
   ]
  },
  {
   "cell_type": "code",
   "execution_count": 145,
   "metadata": {},
   "outputs": [
    {
     "data": {
      "text/plain": [
       "8.0"
      ]
     },
     "execution_count": 145,
     "metadata": {},
     "output_type": "execute_result"
    }
   ],
   "source": [
    "# Function to find the avg of cubes of all even numbers\n",
    "# in a given range (lb, ub) inclusive\n",
    "def avgcube(lb,ub):\n",
    "    sum=0\n",
    "    count=0\n",
    "    for i in range(lb,ub+1):\n",
    "        if i % 2 == 0:\n",
    "            sum += i ** 3\n",
    "            count += 1\n",
    "    return sum/count\n",
    "avgcube(1,3)\n",
    "    "
   ]
  },
  {
   "cell_type": "code",
   "execution_count": 144,
   "metadata": {},
   "outputs": [
    {
     "name": "stdout",
     "output_type": "stream",
     "text": [
      "The factor 30 are:\n",
      "1 2 3 5 6 10 15 30 "
     ]
    }
   ],
   "source": [
    "#Functions to generate the list of factors for a given number \n",
    "# 12 ----1 2 3 4 6 12\n",
    "def givenfactors(x):\n",
    "    print(\"The factor\",x,\"are:\")\n",
    "    \n",
    "    for i in range(1, x + 1):\n",
    "        if x % i == 0:\n",
    "            print(i,end=\" \")\n",
    "givenfactors(30)"
   ]
  },
  {
   "cell_type": "code",
   "execution_count": 141,
   "metadata": {},
   "outputs": [
    {
     "name": "stdout",
     "output_type": "stream",
     "text": [
      "Input a number: 10\n",
      "3628800\n"
     ]
    }
   ],
   "source": [
    "# Function to calaulate the factorial of a given number \n",
    "\n",
    "def fact(n):\n",
    "    if n == 0:\n",
    "        return 1\n",
    "    else:\n",
    "        return n * fact(n-1)\n",
    "n=int(input(\"Input a number: \"))\n",
    "print(fact(n))"
   ]
  },
  {
   "cell_type": "code",
   "execution_count": 154,
   "metadata": {},
   "outputs": [
    {
     "name": "stdout",
     "output_type": "stream",
     "text": [
      "prime\n"
     ]
    }
   ],
   "source": [
    "# Function to check if a given number is prime\n",
    "\n",
    "def primenumber(num):\n",
    "    flat=0\n",
    "    for i in range(2, num//2):\n",
    "        if num % i  == 0:\n",
    "            flat=flat+1\n",
    "    return flat\n",
    "   \n",
    "rs=primenumber(31)\n",
    "if rs == 0:\n",
    "    print(\"prime\")\n",
    "else:\n",
    "    print(\"not prime\")\n",
    "   \n"
   ]
  },
  {
   "cell_type": "code",
   "execution_count": 152,
   "metadata": {},
   "outputs": [
    {
     "data": {
      "text/plain": [
       "12.8"
      ]
     },
     "execution_count": 152,
     "metadata": {},
     "output_type": "execute_result"
    }
   ],
   "source": [
    "# Function to generate average first N Prime numbers\n",
    "\n",
    "def avgOf1N(n) :\n",
    "    primecount = 0\n",
    "    sum = 0\n",
    "    seqcount = 2\n",
    "    while(primecount < n):\n",
    "        if primenumber(seqcount):\n",
    "            primecount += 1\n",
    "            sum += seqcount\n",
    "        seqcount +=1\n",
    "    return sum/n\n",
    "\n",
    "avgOf1N(10)  "
   ]
  },
  {
   "cell_type": "code",
   "execution_count": null,
   "metadata": {},
   "outputs": [],
   "source": [
    "# Function to generate all Perfect numbers in a given range"
   ]
  },
  {
   "cell_type": "code",
   "execution_count": null,
   "metadata": {},
   "outputs": [],
   "source": [
    "# [102---210]"
   ]
  },
  {
   "cell_type": "code",
   "execution_count": 2,
   "metadata": {},
   "outputs": [
    {
     "name": "stdout",
     "output_type": "stream",
     "text": [
      "102 103 104 105 106 107 108 109 110 111 112 113 114 115 116 117 118 119 120 121 122 123 124 125 126 127 128 129 130 131 132 133 134 135 136 137 138 139 140 141 142 143 144 145 146 147 148 149 150 151 152 153 154 155 156 157 158 159 160 161 162 163 164 165 166 167 168 169 170 171 172 173 174 175 176 177 178 179 180 181 182 183 184 185 186 187 188 189 190 191 192 193 194 195 196 197 198 199 200 201 202 203 204 205 206 207 208 209 210 "
     ]
    }
   ],
   "source": [
    "for i in range(102,210+1):\n",
    "    print(i,end=\" \")"
   ]
  },
  {
   "cell_type": "code",
   "execution_count": 4,
   "metadata": {},
   "outputs": [
    {
     "name": "stdout",
     "output_type": "stream",
     "text": [
      "1 2 3 4 5 6 7 8 9 \n"
     ]
    }
   ],
   "source": [
    "def printnatural(n):\n",
    "    for c in range(1,n+1):\n",
    "        print(c,end=\" \")\n",
    "    print()\n",
    "    return\n",
    "printnatural(9)"
   ]
  },
  {
   "cell_type": "code",
   "execution_count": 15,
   "metadata": {},
   "outputs": [
    {
     "name": "stdout",
     "output_type": "stream",
     "text": [
      "500 504 508 512 516 520 524 "
     ]
    }
   ],
   "source": [
    "# Function to print the alternative values in a range\n",
    "# [500, 550]-- 500 502 504..........550\n",
    "# [500, 550]-- 501 503 505..........549\n",
    "# range(500, 550)---- 500 501..........549 \n",
    "# All set based functions in python have start value inclusive \n",
    "\n",
    "'''def alternative():\n",
    "    for i in range(500,550):\n",
    "        if(i%2!=0):\n",
    "            print(i,end=\" \")\n",
    "alternative()\n",
    "'''\n",
    "\n",
    "def alternativevalues(lb,ub):\n",
    "    for i in range(lb ,ub+1, 4):\n",
    "        print(i,end=\" \")\n",
    "    return\n",
    "alternativevalues(500, 525)"
   ]
  },
  {
   "cell_type": "code",
   "execution_count": 22,
   "metadata": {},
   "outputs": [
    {
     "name": "stdout",
     "output_type": "stream",
     "text": [
      "10 9 8 7 6 5 4 3 2 1 "
     ]
    }
   ],
   "source": [
    "# Function to print reverse of given range\n",
    "\n",
    "def rev(start,end):\n",
    "    for i in range(end,start-1,-1):\n",
    "        print(i,end=\" \")\n",
    "    return   \n",
    "        \n",
    "rev(1,10)   "
   ]
  },
  {
   "cell_type": "code",
   "execution_count": 34,
   "metadata": {},
   "outputs": [
    {
     "name": "stdout",
     "output_type": "stream",
     "text": [
      "9 7 5 3 1 "
     ]
    }
   ],
   "source": [
    "# Function to print the odd numbers in reverse order in a range\n",
    "\n",
    "def oddreverse(lb, ub):\n",
    "    for i in range(ub ,lb-1,-1):\n",
    "        if i%2!=0:\n",
    "            \n",
    "            print(i,end=\" \")\n",
    "    return\n",
    "oddreverse(1,10)        "
   ]
  },
  {
   "cell_type": "code",
   "execution_count": 35,
   "metadata": {},
   "outputs": [
    {
     "data": {
      "text/plain": [
       "15150"
      ]
     },
     "execution_count": 35,
     "metadata": {},
     "output_type": "execute_result"
    }
   ],
   "source": [
    "# Sum of numbers in a range\n",
    "\n",
    "def sumrange(s,e):\n",
    "    sum=0\n",
    "    for i in range(s,e+1):\n",
    "        sum=sum+i\n",
    "    return sum\n",
    "sumrange(100, 200)"
   ]
  },
  {
   "cell_type": "code",
   "execution_count": 42,
   "metadata": {},
   "outputs": [
    {
     "data": {
      "text/plain": [
       "3"
      ]
     },
     "execution_count": 42,
     "metadata": {},
     "output_type": "execute_result"
    }
   ],
   "source": [
    "# Function to calculate  the avg of a given range\n",
    "\n",
    "def avgrange(lb, ub):\n",
    "    sum=0\n",
    "    counter=0\n",
    "    for i in range(lb,ub+1):\n",
    "        sum=sum+i\n",
    "        counter=counter+1\n",
    "        avg=sum//counter\n",
    "    return avg\n",
    "avgrange(1, 5)"
   ]
  },
  {
   "cell_type": "code",
   "execution_count": 45,
   "metadata": {},
   "outputs": [
    {
     "data": {
      "text/plain": [
       "3000"
      ]
     },
     "execution_count": 45,
     "metadata": {},
     "output_type": "execute_result"
    }
   ],
   "source": [
    "def avgrange(lb, ub):\n",
    "    sum=0\n",
    "    #counter=0\n",
    "    for i in range(lb,ub+1):\n",
    "        sum=sum+i\n",
    "        #counter=counter+1\n",
    "        avg=sum//(ub-lb+1)\n",
    "    return avg\n",
    "avgrange(1000, 5000)"
   ]
  },
  {
   "cell_type": "code",
   "execution_count": null,
   "metadata": {},
   "outputs": [],
   "source": []
  }
 ],
 "metadata": {
  "kernelspec": {
   "display_name": "Python 3",
   "language": "python",
   "name": "python3"
  },
  "language_info": {
   "codemirror_mode": {
    "name": "ipython",
    "version": 3
   },
   "file_extension": ".py",
   "mimetype": "text/x-python",
   "name": "python",
   "nbconvert_exporter": "python",
   "pygments_lexer": "ipython3",
   "version": "3.7.3"
  }
 },
 "nbformat": 4,
 "nbformat_minor": 2
}
