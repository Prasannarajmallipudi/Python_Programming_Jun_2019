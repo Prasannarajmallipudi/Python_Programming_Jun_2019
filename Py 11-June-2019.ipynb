{
 "cells": [
  {
   "cell_type": "code",
   "execution_count": 3,
   "metadata": {},
   "outputs": [
    {
     "name": "stdout",
     "output_type": "stream",
     "text": [
      "Prasanna Raj Mallipudi\n"
     ]
    }
   ],
   "source": [
    "print(\"Prasanna Raj Mallipudi\")"
   ]
  },
  {
   "cell_type": "markdown",
   "metadata": {},
   "source": [
    "# Notebook Basics"
   ]
  },
  {
   "cell_type": "markdown",
   "metadata": {},
   "source": [
    "### Markdown Basics\n",
    "* **Bold ** \n",
    "* *Italic* \n",
    "* ***IB***\n",
    "* **AVINASH **\n",
    "  * Sub1\n",
    "  * Sub2\n",
    "  * Y Venkatesh\n",
    "    * **UV** <br>\n",
    "    * **Raj**<br>\n",
    "    \n",
    "    \n",
    "1. Ordered List 1\n",
    "2. Ordered List 2\n",
    "3. Ordered List 3 \n",
    "4. Ordered List 4 \n",
    "\n",
    "\n",
    "[Rj LoGo](rj.jpg)\n",
    "\n",
    "![Rj LoGo](rj.jpg)\n",
    "\n",
    "<img src=\"rj.jpg\" style=\"float:right\">\n",
    "\n",
    "\n",
    "- [x] Opt1\n",
    "- [x] Opt2\n",
    "- [x] Opt3\n",
    "- [x] Opt4\n",
    "\n",
    "\n",
    "\n",
    "\n",
    "[Google] [1] or [Yahoo][2]\n",
    "[1]: http://google.com/ \"Google\"\n",
    "[2]: http://yahoo.com/ \"Yahoo\"\n",
    "\n",
    "\n",
    "```printf(\"Hello Raj\")```\n",
    "\n",
    "<a> <http://www.google.com> </a>\n",
    "\n",
    "\n",
    "    \n",
    "   \n",
    "\n",
    "\n",
    "\n"
   ]
  },
  {
   "cell_type": "markdown",
   "metadata": {},
   "source": [
    "# Python Basics\n",
    "\n",
    "### Python 3.7\n",
    "\n",
    "- Scripting\n",
    "- Object Oriented\n",
    "- Functional\n",
    "\n"
   ]
  },
  {
   "cell_type": "code",
   "execution_count": 8,
   "metadata": {},
   "outputs": [],
   "source": [
    "# Python Comments"
   ]
  },
  {
   "cell_type": "code",
   "execution_count": 9,
   "metadata": {},
   "outputs": [
    {
     "name": "stdout",
     "output_type": "stream",
     "text": [
      "APSSDC\n"
     ]
    }
   ],
   "source": [
    "print(\"APSSDC\")"
   ]
  },
  {
   "cell_type": "code",
   "execution_count": 10,
   "metadata": {},
   "outputs": [
    {
     "name": "stdout",
     "output_type": "stream",
     "text": [
      "SDC\n"
     ]
    }
   ],
   "source": [
    "#print(\"APSSDC\")\n",
    "print(\"SDC\")"
   ]
  },
  {
   "cell_type": "code",
   "execution_count": 13,
   "metadata": {},
   "outputs": [
    {
     "name": "stdout",
     "output_type": "stream",
     "text": [
      "Hello Raj !||"
     ]
    }
   ],
   "source": [
    "print(\"Hello \" + \"Raj\" ,\"!\",end=\"||\")\n"
   ]
  },
  {
   "cell_type": "markdown",
   "metadata": {},
   "source": [
    "## Assignment"
   ]
  },
  {
   "cell_type": "code",
   "execution_count": 25,
   "metadata": {},
   "outputs": [
    {
     "name": "stdout",
     "output_type": "stream",
     "text": [
      "1234567891\n",
      "1\n",
      "2\n",
      "400\n"
     ]
    },
    {
     "data": {
      "text/plain": [
       "(1, 2, 400)"
      ]
     },
     "execution_count": 25,
     "metadata": {},
     "output_type": "execute_result"
    }
   ],
   "source": [
    "n1=1234567891 # Single Variable Assignment\n",
    "\n",
    "n1\n",
    "n2=n4=n3=n1 # Multi Varaiable Assignments\n",
    "print(n2)\n",
    "\n",
    "a,b,c=1,2,400\n",
    "print(a)\n",
    "print(b)\n",
    "print(c)\n",
    "a,b,c"
   ]
  },
  {
   "cell_type": "code",
   "execution_count": null,
   "metadata": {},
   "outputs": [],
   "source": []
  },
  {
   "cell_type": "markdown",
   "metadata": {},
   "source": [
    "### Arithmetic Operators\n",
    "- +\n",
    "- -\n",
    "- *\n",
    "- /\n",
    "- %\n",
    "- **"
   ]
  },
  {
   "cell_type": "code",
   "execution_count": 33,
   "metadata": {},
   "outputs": [
    {
     "data": {
      "text/plain": [
       "100000000000000000000"
      ]
     },
     "execution_count": 33,
     "metadata": {},
     "output_type": "execute_result"
    }
   ],
   "source": [
    "c % 11\n",
    "\n",
    "c ** 2\n",
    "type(c)\n",
    "#len(str(type(c)))\n",
    "\n",
    "\n",
    "atoms = 10 ** 20\n",
    "len(str(atoms))\n",
    "atoms"
   ]
  },
  {
   "cell_type": "code",
   "execution_count": null,
   "metadata": {},
   "outputs": [],
   "source": []
  },
  {
   "cell_type": "markdown",
   "metadata": {},
   "source": [
    "### Conditionals\n",
    "\n"
   ]
  },
  {
   "cell_type": "code",
   "execution_count": 54,
   "metadata": {},
   "outputs": [
    {
     "name": "stdout",
     "output_type": "stream",
     "text": [
      "TRUE\n"
     ]
    }
   ],
   "source": [
    "if atoms < 10 ** 99:\n",
    "    print(\"TRUE\")\n",
    "else:\n",
    "    print(\"FALSE\")\n"
   ]
  },
  {
   "cell_type": "code",
   "execution_count": 40,
   "metadata": {},
   "outputs": [
    {
     "data": {
      "text/plain": [
       "['False',\n",
       " 'None',\n",
       " 'True',\n",
       " 'and',\n",
       " 'as',\n",
       " 'assert',\n",
       " 'async',\n",
       " 'await',\n",
       " 'break',\n",
       " 'class',\n",
       " 'continue',\n",
       " 'def',\n",
       " 'del',\n",
       " 'elif',\n",
       " 'else',\n",
       " 'except',\n",
       " 'finally',\n",
       " 'for',\n",
       " 'from',\n",
       " 'global',\n",
       " 'if',\n",
       " 'import',\n",
       " 'in',\n",
       " 'is',\n",
       " 'lambda',\n",
       " 'nonlocal',\n",
       " 'not',\n",
       " 'or',\n",
       " 'pass',\n",
       " 'raise',\n",
       " 'return',\n",
       " 'try',\n",
       " 'while',\n",
       " 'with',\n",
       " 'yield']"
      ]
     },
     "execution_count": 40,
     "metadata": {},
     "output_type": "execute_result"
    }
   ],
   "source": [
    "import keyword\n",
    "keyword.kwlist"
   ]
  },
  {
   "cell_type": "markdown",
   "metadata": {},
   "source": [
    "### Data Types\n",
    "- int\n",
    "- float\n",
    "- string\n",
    "- double"
   ]
  },
  {
   "cell_type": "code",
   "execution_count": 52,
   "metadata": {},
   "outputs": [
    {
     "name": "stdout",
     "output_type": "stream",
     "text": [
      "<class 'str'>\n",
      "<class 'int'>\n",
      "<class 'float'>\n",
      "Prasanna Raj Mallipudi\n",
      "String Length: 22\n",
      "69014978768345458548673686329780708168010234321157869622016822008604576610843435253147523608071501615464448\n"
     ]
    }
   ],
   "source": [
    "s1=\"Prasanna Raj Mallipudi\"\n",
    "print(type(s1))\n",
    "s2=1429\n",
    "print(type(s2))\n",
    "s3=1.1\n",
    "print(type(s3))\n",
    "print(s1)\n",
    "print(\"String Length:\",len(s1))\n",
    "\n",
    "print(12 ** 99)"
   ]
  },
  {
   "cell_type": "code",
   "execution_count": 57,
   "metadata": {},
   "outputs": [
    {
     "name": "stdout",
     "output_type": "stream",
     "text": [
      "Enter a NUmber124\n",
      "EVEN\n"
     ]
    }
   ],
   "source": [
    "# Check if a number id EVEN\n",
    "\n",
    "a=int(input(\"Enter a NUmber\"))\n",
    "#a=123\n",
    "if a % 2 == 0:\n",
    "    print(\"EVEN\")\n",
    "else:\n",
    "    print(\"ODD\")"
   ]
  },
  {
   "cell_type": "code",
   "execution_count": 61,
   "metadata": {},
   "outputs": [
    {
     "name": "stdout",
     "output_type": "stream",
     "text": [
      "Enter the first No123\n",
      "Enter the Second No124\n",
      "Enter the Thrid No125\n",
      "125 is the Greatset\n"
     ]
    }
   ],
   "source": [
    "# Greastest of 3 Numbers\n",
    "\n",
    "a=int(input(\"Enter the first No\"))\n",
    "\n",
    "b=int(input(\"Enter the Second No\"))\n",
    "c=int(input(\"Enter the Thrid No\"))\n",
    "\n",
    "if a>b and a>c:\n",
    "    \n",
    "    print(a,\"is the Greatset\")\n",
    "\n",
    "elif b>c:\n",
    "    \n",
    "    print(b,\"is the Greatset\")\n",
    "else:\n",
    "    \n",
    "    print(c,\"is the Greatset\")"
   ]
  },
  {
   "cell_type": "code",
   "execution_count": 76,
   "metadata": {},
   "outputs": [
    {
     "name": "stdout",
     "output_type": "stream",
     "text": [
      "True\n"
     ]
    },
    {
     "data": {
      "text/plain": [
       "'\\njhdjjdjd\\n'"
      ]
     },
     "execution_count": 76,
     "metadata": {},
     "output_type": "execute_result"
    }
   ],
   "source": [
    "# if a year is a Leaf Year\n",
    "\n",
    "import calendar\n",
    "print(calendar.isleap(2000))\n",
    "\n",
    "'''\n",
    "jhdjjdjd\n",
    "'''\n"
   ]
  },
  {
   "cell_type": "code",
   "execution_count": 69,
   "metadata": {},
   "outputs": [
    {
     "name": "stdout",
     "output_type": "stream",
     "text": [
      "Enter the  No6\n",
      "Enter the a No3\n",
      "Enter the b No9\n",
      "YES\n"
     ]
    }
   ],
   "source": [
    "# check if a no exisits in a given range(inclusive)\n",
    "a=int(input(\"Enter the  No\"))\n",
    "\n",
    "b=int(input(\"Enter the a No\"))\n",
    "c=int(input(\"Enter the b No\"))\n",
    "\n",
    "if a in range(b,c):\n",
    "    print(\"YES\")\n",
    "else:\n",
    "    print(\"No\")\n"
   ]
  },
  {
   "cell_type": "code",
   "execution_count": 71,
   "metadata": {},
   "outputs": [
    {
     "name": "stdout",
     "output_type": "stream",
     "text": [
      "Enter a DIgithgdfhgfgh4535356nbd\n",
      "7\n"
     ]
    }
   ],
   "source": [
    "#calculate the no of digits in a number\n",
    "n=input(\"Enter a DIgit\")\n",
    "a=0\n",
    "for i in n:\n",
    "    if i.isdigit():\n",
    "        a=a+1\n",
    "print(a)\n",
    "    "
   ]
  },
  {
   "cell_type": "code",
   "execution_count": 74,
   "metadata": {},
   "outputs": [
    {
     "name": "stdout",
     "output_type": "stream",
     "text": [
      "OK\n"
     ]
    }
   ],
   "source": [
    "# Check if a number is multiple of 10\n",
    "\n",
    "if  10 % 10:\n",
    "    print(\"OK\")"
   ]
  },
  {
   "cell_type": "code",
   "execution_count": 80,
   "metadata": {},
   "outputs": [
    {
     "name": "stdout",
     "output_type": "stream",
     "text": [
      "enter no 2\n",
      "No\n"
     ]
    }
   ],
   "source": [
    "# check if a number is a factor of 1000\n",
    "\n",
    "a=int(input(\"enter no \"))\n",
    "if 100 % a:\n",
    "    print(\"Yes\")\n",
    "else:\n",
    "    print(\"No\")"
   ]
  },
  {
   "cell_type": "code",
   "execution_count": 1,
   "metadata": {},
   "outputs": [
    {
     "name": "stdout",
     "output_type": "stream",
     "text": [
      "123456 is not equal to python\n"
     ]
    }
   ],
   "source": [
    "# Check if given string is equal to a number\n",
    "s1 = \"python\"\n",
    "n1 = 123456\n",
    "if str(n1) == s1:\n",
    "    print(n1, \"is equal to\", s1)\n",
    "else:\n",
    "    print(n1, \"is not equal to\", s1)\n"
   ]
  },
  {
   "cell_type": "code",
   "execution_count": 78,
   "metadata": {},
   "outputs": [
    {
     "data": {
      "text/plain": [
       "11.090536506409418"
      ]
     },
     "execution_count": 78,
     "metadata": {},
     "output_type": "execute_result"
    }
   ],
   "source": [
    "# check the square root of a number without functions\n",
    "\n",
    "n1=123\n",
    "n1 ** 0.5"
   ]
  },
  {
   "cell_type": "code",
   "execution_count": 79,
   "metadata": {},
   "outputs": [
    {
     "data": {
      "text/plain": [
       "1000000000"
      ]
     },
     "execution_count": 79,
     "metadata": {},
     "output_type": "execute_result"
    }
   ],
   "source": [
    "10 ** 9"
   ]
  },
  {
   "cell_type": "code",
   "execution_count": 2,
   "metadata": {},
   "outputs": [
    {
     "name": "stdout",
     "output_type": "stream",
     "text": [
      "31622400000000000\n"
     ]
    }
   ],
   "source": [
    "# Calculate the number of nano seconds in a \n",
    "#given year(considering leap year logic)\n",
    "year = 2016\n",
    "if year % 400 == 0 or (year % 100 != 0 and year % 4 == 0):\n",
    "    print(366 * 24 * 60 * 60 * (10**9))\n",
    "else:\n",
    "    print(365 * 24 * 60 * 60 * (10**9))"
   ]
  },
  {
   "cell_type": "code",
   "execution_count": null,
   "metadata": {},
   "outputs": [],
   "source": []
  }
 ],
 "metadata": {
  "kernelspec": {
   "display_name": "Python 3",
   "language": "python",
   "name": "python3"
  },
  "language_info": {
   "codemirror_mode": {
    "name": "ipython",
    "version": 3
   },
   "file_extension": ".py",
   "mimetype": "text/x-python",
   "name": "python",
   "nbconvert_exporter": "python",
   "pygments_lexer": "ipython3",
   "version": "3.7.3"
  }
 },
 "nbformat": 4,
 "nbformat_minor": 2
}
