{
 "cells": [
  {
   "cell_type": "markdown",
   "metadata": {},
   "source": [
    "### Problem Solving and Programming in Data Structures\n",
    "\n",
    "#### Date: 14-June-2019\n",
    "\n",
    "#### Day Objectives\n",
    "- Python Data Structures\n",
    "   - Lists\n",
    "   - Tuples\n",
    "   - Dictionaries\n",
    "- Basic Problem set on DS\n",
    "- Advanced Problem Set\n",
    "- Packeges and Modules in Python"
   ]
  },
  {
   "cell_type": "code",
   "execution_count": null,
   "metadata": {},
   "outputs": [],
   "source": []
  },
  {
   "cell_type": "code",
   "execution_count": null,
   "metadata": {},
   "outputs": [],
   "source": []
  },
  {
   "cell_type": "markdown",
   "metadata": {},
   "source": [
    "### Python Data Structures\n",
    "\n",
    "#### Lists"
   ]
  },
  {
   "cell_type": "code",
   "execution_count": 35,
   "metadata": {},
   "outputs": [
    {
     "data": {
      "text/plain": [
       "234.66666666666666"
      ]
     },
     "execution_count": 35,
     "metadata": {},
     "output_type": "execute_result"
    }
   ],
   "source": [
    "li = [14,29,1429]\n",
    "\n",
    "li # Access the entire list\n",
    "\n",
    "li[1] # Access an element with in a list\n",
    "\n",
    "li[1:] # Access all element from second element to last element\n",
    "\n",
    "li[::-1]\n",
    "\n",
    "li=li[::-1] # Reverseing list elements and reassign variable\n",
    "\n",
    "li\n",
    "\n",
    "li=li[::-1]\n",
    "\n",
    "li\n",
    "\n",
    "li[::2] # Accessing even index elements in list format\n",
    "\n",
    "li[1::2] # Accessing odd index elements in list format\n",
    "\n",
    "\n",
    "# Listcan be accessed ,Manipulated in \n",
    "    # Direct Referencing  - [index]\n",
    "    # indirect Referencing - throught function\n",
    "    \n",
    "# Adding an element to end of the list\n",
    "\n",
    "li.append(26) # Adding an element to end of the list\n",
    "\n",
    "li.insert(1,234)# Adding an element at a particular index position \n",
    "\n",
    "li.sort() # Sort elements i ascemding order\n",
    "\n",
    "li.pop() # Remove the last element in a list\n",
    "\n",
    "li.pop(1) # Remove an a element at a particular index\n",
    "\n",
    "li2 = [234,456,789]\n",
    "\n",
    "li.extend(li2)# Merge list 2 into list 1\n",
    "\n",
    "li.reverse() # Entire List elements to Reverse into a list\n",
    "\n",
    "sum(li) # sum of all elements in a list\n",
    "\n",
    "max(li) # Maximum element in a list\n",
    "\n",
    "min(li) # Minimum element in a list\n",
    "\n",
    "len(li) # Number of elements in a list\n",
    "\n",
    "sum(li)/len(li) # Average of list elements\n",
    "\n",
    "sum(li[1::2])/len(li[1::2]) # Average of all alternate elements\n",
    "\n",
    "# \n",
    "\n",
    "\n",
    "\n"
   ]
  },
  {
   "cell_type": "code",
   "execution_count": 44,
   "metadata": {},
   "outputs": [
    {
     "data": {
      "text/plain": [
       "[789, 456, 234, 234, 29, 14]"
      ]
     },
     "execution_count": 44,
     "metadata": {},
     "output_type": "execute_result"
    }
   ],
   "source": [
    "li"
   ]
  },
  {
   "cell_type": "code",
   "execution_count": 53,
   "metadata": {},
   "outputs": [
    {
     "name": "stdout",
     "output_type": "stream",
     "text": [
      "456\n"
     ]
    },
    {
     "data": {
      "text/plain": [
       "[-2]"
      ]
     },
     "execution_count": 53,
     "metadata": {},
     "output_type": "execute_result"
    }
   ],
   "source": [
    "# Function to identify the second largest element in the list\n",
    "    # Sort the data and select the second last element\n",
    "    # Sort the data in reverse order,and select the \n",
    "    # Remove max element and then get the max\n",
    "    # \n",
    "    \n",
    "def secondlarge(li):\n",
    "    li.sort()\n",
    "    print(li[-2])\n",
    "    \n",
    "secondlarge(li)\n",
    "          # Single line result\n",
    "def secondl(li):\n",
    "    li.sort()\n",
    "    return [-2]\n",
    "secondl(li)\n",
    "\n",
    "\n",
    "    \n",
    "    "
   ]
  },
  {
   "cell_type": "code",
   "execution_count": 42,
   "metadata": {},
   "outputs": [
    {
     "data": {
      "text/plain": [
       "234"
      ]
     },
     "execution_count": 42,
     "metadata": {},
     "output_type": "execute_result"
    }
   ],
   "source": [
    "# Function that returns the nth largest\n",
    "\n",
    "def genericLargest(li,n):\n",
    "    li.sort(reverse=True)\n",
    "    return li[n-1]\n",
    "\n",
    "genericLargest(li,4)    "
   ]
  },
  {
   "cell_type": "code",
   "execution_count": 43,
   "metadata": {},
   "outputs": [
    {
     "data": {
      "text/plain": [
       "[789, 456, 234, 234, 29, 14]"
      ]
     },
     "execution_count": 43,
     "metadata": {},
     "output_type": "execute_result"
    }
   ],
   "source": [
    "li"
   ]
  },
  {
   "cell_type": "code",
   "execution_count": 64,
   "metadata": {},
   "outputs": [
    {
     "data": {
      "text/plain": [
       "0"
      ]
     },
     "execution_count": 64,
     "metadata": {},
     "output_type": "execute_result"
    }
   ],
   "source": [
    "# Function to serach for data in a list\n",
    "# Serach for the key in the list and return the in \n",
    "def linearSearch(li,key):\n",
    "    for index in range(0, len(li)):\n",
    "        if li[index] == key:\n",
    "            return index+1\n",
    "    return -1\n",
    "        \n",
    "def linearSearch2(li,key):\n",
    "    for element in li:\n",
    "        if element == key:\n",
    "            return li.index(element)\n",
    "    return -1   \n",
    "\n",
    "def linearSearch3(li,key):\n",
    "    if key in li:\n",
    "        return li.index(key)\n",
    "    return -1\n",
    "    \n",
    "    #return [li.index(key) if key in li ]\n",
    "\n",
    "linearSearch3(li,14)\n",
    "\n",
    "    "
   ]
  },
  {
   "cell_type": "code",
   "execution_count": 55,
   "metadata": {},
   "outputs": [
    {
     "data": {
      "text/plain": [
       "[14, 29, 234, 234, 456, 789]"
      ]
     },
     "execution_count": 55,
     "metadata": {},
     "output_type": "execute_result"
    }
   ],
   "source": [
    "li"
   ]
  },
  {
   "cell_type": "code",
   "execution_count": 77,
   "metadata": {},
   "outputs": [
    {
     "data": {
      "text/plain": [
       "1"
      ]
     },
     "execution_count": 77,
     "metadata": {},
     "output_type": "execute_result"
    }
   ],
   "source": [
    "# Function to count the occurances of a \n",
    "# \"Python Programming\" ,m--->2\n",
    "\n",
    "def countoccurance(a,n):\n",
    "    #a=\"Python Programming\"\n",
    "    return a.count(n)\n",
    "\n",
    "def countoccurance1(s,subs):\n",
    "    count = 0\n",
    "    for ch in s:\n",
    "        if ch == subs:\n",
    "            count += 1\n",
    "    return count\n",
    "\n",
    "def countoccurance2(s,c):\n",
    "    return s.count(c)\n",
    "    \n",
    "\n",
    "\n",
    "    \n",
    "countoccurance2(\"Python Programming\",\"a\")\n",
    "    "
   ]
  },
  {
   "cell_type": "code",
   "execution_count": 3,
   "metadata": {},
   "outputs": [
    {
     "data": {
      "text/plain": [
       "3"
      ]
     },
     "execution_count": 3,
     "metadata": {},
     "output_type": "execute_result"
    }
   ],
   "source": [
    "# Function to find the no of occurances of a sustrings\n",
    "# \"abcabcddcba\",\"ab\"--->2\n",
    "# \"abcabcddcbaaaa\",\"aa\"-->3\n",
    "\n",
    "\n",
    "def substring(n,x):\n",
    "    count=0\n",
    "    le=len(x)\n",
    "    for i in range(len(n)):\n",
    "        if n[i:i+le] == x:\n",
    "            count += 1\n",
    "    return count\n",
    "\n",
    "substring(\"abcabcddcbaaaa\",\"aa\")        \n",
    "        \n",
    "    "
   ]
  },
  {
   "cell_type": "code",
   "execution_count": null,
   "metadata": {},
   "outputs": [],
   "source": []
  },
  {
   "cell_type": "code",
   "execution_count": 8,
   "metadata": {},
   "outputs": [
    {
     "data": {
      "text/plain": [
       "[1, 2, 3, 4, 5, 6]"
      ]
     },
     "execution_count": 8,
     "metadata": {},
     "output_type": "execute_result"
    }
   ],
   "source": [
    "s = \"1 2 3 4 5 6\"\n",
    "li = s.split()\n",
    "numberlist = []\n",
    "for i in li:\n",
    "    numberlist.append(int(i))\n",
    "numberlist"
   ]
  },
  {
   "cell_type": "code",
   "execution_count": 3,
   "metadata": {},
   "outputs": [
    {
     "name": "stdout",
     "output_type": "stream",
     "text": [
      "3\n"
     ]
    },
    {
     "data": {
      "text/plain": [
       "14"
      ]
     },
     "execution_count": 3,
     "metadata": {},
     "output_type": "execute_result"
    }
   ],
   "source": [
    "n= int(input())\n",
    "\n",
    "def sumSquresNaturalNumbers(n):\n",
    "    sum = 0\n",
    "    for i in range(1,n+1):\n",
    "        sum = sum + i ** 2\n",
    "    return sum\n",
    "sumSquresNaturalNumbers(n)"
   ]
  },
  {
   "cell_type": "code",
   "execution_count": null,
   "metadata": {},
   "outputs": [],
   "source": []
  }
 ],
 "metadata": {
  "kernelspec": {
   "display_name": "Python 3",
   "language": "python",
   "name": "python3"
  },
  "language_info": {
   "codemirror_mode": {
    "name": "ipython",
    "version": 3
   },
   "file_extension": ".py",
   "mimetype": "text/x-python",
   "name": "python",
   "nbconvert_exporter": "python",
   "pygments_lexer": "ipython3",
   "version": "3.7.3"
  }
 },
 "nbformat": 4,
 "nbformat_minor": 2
}
