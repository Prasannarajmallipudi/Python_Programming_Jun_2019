{
 "cells": [
  {
   "cell_type": "code",
   "execution_count": 5,
   "metadata": {},
   "outputs": [
    {
     "name": "stdout",
     "output_type": "stream",
     "text": [
      "Enter nameqwert\n",
      "Enter Score123\n",
      "Enter nameasdf\n",
      "Enter Score12345\n",
      "('qwert', 123)\n",
      "('asdf', 12345)\n",
      "{'qwert': 123, 'asdf': 12345}\n"
     ]
    }
   ],
   "source": [
    "sports ={}\n",
    "\n",
    "for i in range(2):\n",
    "    name = input(\"Enter name\")\n",
    "    score = int(input(\"Enter Score\"))\n",
    "    sports[name] = score\n",
    "max_score = max(sports.values())\n",
    "for i in sports.items():\n",
    "    print(i)\n",
    "#max_score\n",
    "print(sports)"
   ]
  },
  {
   "cell_type": "code",
   "execution_count": null,
   "metadata": {},
   "outputs": [],
   "source": []
  }
 ],
 "metadata": {
  "kernelspec": {
   "display_name": "Python 3",
   "language": "python",
   "name": "python3"
  },
  "language_info": {
   "codemirror_mode": {
    "name": "ipython",
    "version": 3
   },
   "file_extension": ".py",
   "mimetype": "text/x-python",
   "name": "python",
   "nbconvert_exporter": "python",
   "pygments_lexer": "ipython3",
   "version": "3.7.3"
  }
 },
 "nbformat": 4,
 "nbformat_minor": 2
}
