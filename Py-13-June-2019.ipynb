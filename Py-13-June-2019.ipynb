{
 "cells": [
  {
   "cell_type": "code",
   "execution_count": 1,
   "metadata": {},
   "outputs": [
    {
     "name": "stdout",
     "output_type": "stream",
     "text": [
      "102 103 104 105 106 107 108 109 110 111 112 113 114 115 116 117 118 119 120 121 122 123 124 125 126 127 128 129 130 131 132 133 134 135 136 137 138 139 140 141 142 143 144 145 146 147 148 149 150 151 152 153 154 155 156 157 158 159 160 161 162 163 164 165 166 167 168 169 170 171 172 173 174 175 176 177 178 179 180 181 182 183 184 185 186 187 188 189 190 191 192 193 194 195 196 197 198 199 200 201 202 203 204 205 206 207 208 209 210 "
     ]
    }
   ],
   "source": [
    "# range of [102----210]\n",
    "def ran():\n",
    "    for i in range(102,210+1):\n",
    "        print(i,end=\" \")\n",
    "ran()"
   ]
  },
  {
   "cell_type": "code",
   "execution_count": 13,
   "metadata": {},
   "outputs": [
    {
     "name": "stdout",
     "output_type": "stream",
     "text": [
      "1920 1924 1928 1932 1936 1940 1944 1948 1952 1956 1960 1964 1968 1972 1976 1980 1984 1988 1992 1996 2000 2004 2008 2012 2016 2020 "
     ]
    }
   ],
   "source": [
    "# Function to generate the leap year in a given time Period\n",
    "# 2000 -2020 ---> 2000 2004 2008 2012 2016 2020\n",
    "\n",
    "def isleapYear(year):\n",
    "    if year % 400 == 0 or (year % 100 != 0 and year % 4 == 0):\n",
    "        return True\n",
    "    return False\n",
    "   \n",
    "def generateLeapYears(startYr,endYr):\n",
    "   for year in range(startYr,endYr+1):\n",
    "       if isleapYear(year):\n",
    "           print(year,end=\" \")\n",
    "   return\n",
    "\n",
    "\n",
    "generateLeapYears(1919,2020)\n"
   ]
  },
  {
   "cell_type": "code",
   "execution_count": 15,
   "metadata": {},
   "outputs": [
    {
     "name": "stdout",
     "output_type": "stream",
     "text": [
      "10 * 100 = 1000\n",
      "10 * 101 = 1010\n",
      "10 * 102 = 1020\n",
      "10 * 103 = 1030\n",
      "10 * 104 = 1040\n",
      "10 * 105 = 1050\n",
      "10 * 106 = 1060\n",
      "10 * 107 = 1070\n",
      "10 * 108 = 1080\n",
      "10 * 109 = 1090\n",
      "10 * 110 = 1100\n"
     ]
    }
   ],
   "source": [
    "\n",
    "def multiplicationNumber(lb,ub):\n",
    "    \n",
    "    mul=10\n",
    "    for n in range(lb,ub+1):\n",
    "        print(mul,\"*\",n,\"=\",mul*n)\n",
    "    return\n",
    "multiplicationNumber(100,110)\n"
   ]
  },
  {
   "cell_type": "code",
   "execution_count": 17,
   "metadata": {},
   "outputs": [
    {
     "name": "stdout",
     "output_type": "stream",
     "text": [
      "enter a number:7\n"
     ]
    },
    {
     "data": {
      "text/plain": [
       "844"
      ]
     },
     "execution_count": 17,
     "metadata": {},
     "output_type": "execute_result"
    }
   ],
   "source": [
    "# Function to calculate average of all factorials in given range\n",
    "n=int(input(\"enter a number:\"))\n",
    "def numberFact(n):\n",
    "   fact=1\n",
    "   sum=0\n",
    "   count=0\n",
    "   for i in range(1,n+1):\n",
    "       fact=fact*i\n",
    "       sum=sum+fact\n",
    "       count=count+1\n",
    "       avg=sum//count\n",
    "   return avg\n",
    "numberFact(n)"
   ]
  },
  {
   "cell_type": "code",
   "execution_count": 20,
   "metadata": {},
   "outputs": [
    {
     "data": {
      "text/plain": [
       "1096"
      ]
     },
     "execution_count": 20,
     "metadata": {},
     "output_type": "execute_result"
    }
   ],
   "source": [
    "# calculate number of days in a given time period using leap year \n",
    "# For every year in the given time period, if the year is \n",
    "\n",
    "def numberOfDays(start, end):\n",
    "    sum = 0\n",
    "    for year in range(start,end+1):\n",
    "        if isleapYear(year):\n",
    "            sum= sum+366\n",
    "        else:\n",
    "            sum=sum+365\n",
    "    return sum\n",
    "numberOfDays(2000, 2002)"
   ]
  },
  {
   "cell_type": "code",
   "execution_count": 48,
   "metadata": {},
   "outputs": [
    {
     "data": {
      "text/plain": [
       "205248"
      ]
     },
     "execution_count": 48,
     "metadata": {},
     "output_type": "execute_result"
    }
   ],
   "source": [
    "# Function to calculate no of hours for a given period\n",
    "# (12 1993, 3,1999)\n",
    "# 2,2016 . 6,2019\n",
    "#  [All days from feb 2016 to dec 2016,\n",
    "#   all days for years between start and end,\n",
    "#   all days from Jan to June 2019]\n",
    "# No of hours = 24 * No of days\n",
    "# 3 steps\n",
    "    # 1. start month year to end of year - calculate no of \n",
    "    # 2. Calculate days for all years between start year \n",
    "        # 2017,2018 = 365 * no of years\n",
    "    # 3.calculate days from jan to end month year\n",
    "# Excluding Feb \n",
    "# First Six Months - 1,3,4,5,6\n",
    "                    # all Odd month have 31 days\n",
    "                    # All even months have 30 days\n",
    "# Last Six Months - 8,9,10,11,12\n",
    "                    # all even month have 31 days\n",
    "                    # All odd months have 30 days\n",
    "        \n",
    "# 31 days - (months <=7  and month % 2!= 0 and month != 2)|| (month >=8 and  )\n",
    "               # return 31\n",
    "  #          else\n",
    "            \n",
    "#               return 30\n",
    "\n",
    "\n",
    "def numberofDaysMonth(month,year):\n",
    "    if month ==2:\n",
    "        if isleapYear(year):\n",
    "            return 29\n",
    "        return 28\n",
    "    elif (month <= 7 and month % 2!= 0) or (month>= 8 and month % 2 == 0):\n",
    "        return 31\n",
    "    else:\n",
    "        return 30\n",
    "      \n",
    "numberofDaysMonth(4, 2019)\n",
    "\n",
    "def daysinstartyear(startmonth,startyear):\n",
    "    days = 0\n",
    "    for month in range(startmonth,13):\n",
    "        days += numberofDaysMonth(month,startyear)\n",
    "    return days\n",
    "\n",
    "daysinstartyear(1,2020)\n",
    "\n",
    "def daysInEndYear(endmonth,endyear):\n",
    "    days=0\n",
    "    for month in range(1,endmonth+1):\n",
    "        days += numberofDaysMonth(month,endyear)\n",
    "    return days\n",
    "    \n",
    "daysInEndYear(2,2019)\n",
    "\n",
    "def numberOfHours(startmonth,startyear,endmonth,endyear):\n",
    "    days = 0\n",
    "    days += daysinstartyear(startmonth,startyear)\n",
    "    days += daysInEndYear(endmonth,endyear)\n",
    "    if endyear - startyear == 2: # 2019 -2017\n",
    "        days += numberOfDays(startyear+1, startyear+1)\n",
    "    elif endyear - startyear > 2:\n",
    "        days += numberOfDays(startyear+1, endyear-1)\n",
    "    return 24 * days\n",
    "\n",
    "numberOfHours(11,1975, 3,1999)    "
   ]
  },
  {
   "cell_type": "code",
   "execution_count": 33,
   "metadata": {},
   "outputs": [
    {
     "data": {
      "text/plain": [
       "True"
      ]
     },
     "execution_count": 33,
     "metadata": {},
     "output_type": "execute_result"
    }
   ],
   "source": [
    "# Amstrong Number \n",
    "def armstorng(n):\n",
    "   s=0\n",
    "   l=len(n)\n",
    "   for i in n:\n",
    "       s=s+pow(int(i),l)\n",
    "   if(s==int(n)):\n",
    "       return True\n",
    "   else:\n",
    "       return False\n",
    "\n",
    "armstorng(str(153))"
   ]
  },
  {
   "cell_type": "code",
   "execution_count": null,
   "metadata": {},
   "outputs": [],
   "source": []
  }
 ],
 "metadata": {
  "kernelspec": {
   "display_name": "Python 3",
   "language": "python",
   "name": "python3"
  },
  "language_info": {
   "codemirror_mode": {
    "name": "ipython",
    "version": 3
   },
   "file_extension": ".py",
   "mimetype": "text/x-python",
   "name": "python",
   "nbconvert_exporter": "python",
   "pygments_lexer": "ipython3",
   "version": "3.7.3"
  }
 },
 "nbformat": 4,
 "nbformat_minor": 2
}
