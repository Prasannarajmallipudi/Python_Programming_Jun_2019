{
 "cells": [
  {
   "cell_type": "code",
   "execution_count": null,
   "metadata": {},
   "outputs": [],
   "source": [
    "# Problem : Play With Numbers\n",
    "\n",
    "#Read no of array elements \n",
    "n = input().split()\n",
    "n[0], n[1] = int(n[0]), int(n[1])\n",
    "# Read array elements\n",
    "a = input().split()\n",
    "sum = [] # Intilize cumlative sum array\n",
    "# Cumulative Sum\n",
    "for i in range(0,n[0]):\n",
    "    if i == 0:\n",
    "        sum.append(int(a[i]))\n",
    "    else:\n",
    "        sum.append(int(sum[i-1])+ int(a[i]))\n",
    "        \n",
    "#print(sum[n[0]-1])\n",
    "for k in range(0,n[1]):\n",
    "    inq = input().split()\n",
    "    i = int(inq[0])\n",
    "    j = int(inq[1])\n",
    "    if i > 1:\n",
    "        print((sum[j-1] - sum[i-2]) // (j-i+1))\n",
    "    else:\n",
    "        print(sum[j-1] // (j-1+1))\n"
   ]
  },
  {
   "cell_type": "markdown",
   "metadata": {},
   "source": [
    "#### Problem : Highest Remainder\n",
    "\n",
    "Natural number that is a smaller then  \n",
    "highest remainder when divided by the number,\n",
    "if there is more then one such number ,print the small one\n",
    "\n",
    "N\n",
    "highest = 0\n",
    "x < n and n % x == highest\n",
    "\n",
    "10 \n",
    "9 1\n",
    "8 2\n",
    "7 3\n",
    "6 4\n",
    "5 0 \n",
    "4 2\n",
    "3 1\n",
    "\n"
   ]
  },
  {
   "cell_type": "code",
   "execution_count": null,
   "metadata": {},
   "outputs": [],
   "source": [
    "def highestRemainder(n):\n",
    "    hr = 0\n",
    "    value = n\n",
    "    for i in range(n-1,n//2,-1):\n",
    "        r = n % i\n",
    "        if r > hr:\n",
    "            hr = r\n",
    "            value = i\n",
    "    print(value)\n",
    "    return \n",
    "highestRemainder(5)\n",
    "        \n",
    "            \n",
    "    "
   ]
  },
  {
   "cell_type": "code",
   "execution_count": null,
   "metadata": {},
   "outputs": [],
   "source": [
    "# Function to determine if a number is Special Number or not\n",
    "def isSpecialNumber(n, p):\n",
    "    if noofPrimeFactors(n) == p:\n",
    "        return True\n",
    "    return False\n",
    "# Function to check if number is Prime\n",
    "def isprime(n):\n",
    "    flag = 1\n",
    "    if n == 2:\n",
    "        return True\n",
    "    for i in range(2,n//2+1):\n",
    "        if n % i ==0:\n",
    "            flag = 0\n",
    "            return False\n",
    "    if flag == 1:\n",
    "        return True\n",
    "#isprime(14)\n",
    "# function to determine number of prime factors for a given number\n",
    "def noofPrimeFactors(n):\n",
    "    if isprime(n):\n",
    "        return 1\n",
    "    count = 0\n",
    "    for i in range(2,n // 2 + 1):\n",
    "        if isprime(i) and n % i == 0:\n",
    "            count += 1\n",
    "    return count\n",
    "#noofPrimeFactors(30)\n",
    "#isSpecialNumber(30, 2)\n",
    "def solution2():\n",
    "    p =int(input())\n",
    "    t =int(input())\n",
    "    for i in range(0,t):\n",
    "        if isSpecialNumber(n,p):\n",
    "            print(\"YES\")\n",
    "        else:\n",
    "            print(\"NO\")\n",
    "isSpecialNumber(10, 2)"
   ]
  },
  {
   "cell_type": "code",
   "execution_count": null,
   "metadata": {},
   "outputs": [],
   "source": []
  },
  {
   "cell_type": "code",
   "execution_count": 15,
   "metadata": {},
   "outputs": [],
   "source": [
    "t=()\n",
    "dir(t)"
   ]
  },
  {
   "cell_type": "code",
   "execution_count": 2,
   "metadata": {},
   "outputs": [
    {
     "data": {
      "text/plain": [
       "tuple"
      ]
     },
     "execution_count": 2,
     "metadata": {},
     "output_type": "execute_result"
    }
   ],
   "source": [
    "type(t)"
   ]
  },
  {
   "cell_type": "code",
   "execution_count": 3,
   "metadata": {},
   "outputs": [
    {
     "name": "stdout",
     "output_type": "stream",
     "text": [
      "('Prasanna Raj', 1429, 'Hussean', 10.2)\n"
     ]
    }
   ],
   "source": [
    "t=(\"Prasanna Raj\",1429,\"Hussean\",10.2)\n",
    "print(t)"
   ]
  },
  {
   "cell_type": "code",
   "execution_count": 7,
   "metadata": {},
   "outputs": [
    {
     "data": {
      "text/plain": [
       "1"
      ]
     },
     "execution_count": 7,
     "metadata": {},
     "output_type": "execute_result"
    }
   ],
   "source": [
    "t.count(\"Hussean\")\n"
   ]
  },
  {
   "cell_type": "code",
   "execution_count": 5,
   "metadata": {},
   "outputs": [],
   "source": [
    "t=(\"Prasanna Raj\",1429,\"Hussean\",10.2,\"Prasanna Raj\",\"Prasanna Raj\",\"Prasanna Raj\")"
   ]
  },
  {
   "cell_type": "code",
   "execution_count": 10,
   "metadata": {},
   "outputs": [
    {
     "data": {
      "text/plain": [
       "1"
      ]
     },
     "execution_count": 10,
     "metadata": {},
     "output_type": "execute_result"
    }
   ],
   "source": [
    "t.index(1429)"
   ]
  },
  {
   "cell_type": "markdown",
   "metadata": {},
   "source": [
    "### Tuples\n",
    "- t1=()\n",
    "- li=[]\n",
    "- dict={}\n",
    "\n",
    "Diffeeneces between List and Tuples\n",
    "\n",
    "List are Mutable - Changed/modified\n",
    "\n",
    "- Tuples are Immutable -cannot change onces intialized \n",
    "\n",
    "- Tuples are used to only Acess data\n",
    "\n",
    "- List are used to Acess,Add,Delete/Modified\n"
   ]
  },
  {
   "cell_type": "code",
   "execution_count": 14,
   "metadata": {},
   "outputs": [
    {
     "data": {
      "text/plain": [
       "(8, 6, 0)"
      ]
     },
     "execution_count": 14,
     "metadata": {},
     "output_type": "execute_result"
    }
   ],
   "source": [
    "t1 = (1,2,8,6,0)\n",
    "\n",
    "t1[3] # Access the fourth element\n",
    "\n",
    "t1[len(t1)//2:] # Accessing all elements from middle to last element\n",
    "\n",
    "\n"
   ]
  },
  {
   "cell_type": "markdown",
   "metadata": {},
   "source": [
    "#### Dictionaries\n",
    "\n",
    "It works on the concept of set\n",
    "- Unique Data\n",
    "  (Key, Value)----> Pair\n",
    "\n",
    "- Key is the unique identifier for a value\n",
    "- Value is data that can be accessed with a key\n",
    "\n"
   ]
  },
  {
   "cell_type": "code",
   "execution_count": null,
   "metadata": {},
   "outputs": [],
   "source": []
  },
  {
   "cell_type": "code",
   "execution_count": 21,
   "metadata": {},
   "outputs": [
    {
     "name": "stdout",
     "output_type": "stream",
     "text": [
      "Prasanna Raj\n",
      "Hussean\n",
      "Ravi\n"
     ]
    }
   ],
   "source": [
    "dict={1:\"Prasanna Raj\",2:\"Hussean\",3:\"Ravi\"}\n",
    "print(dict[1]) # Accessing the value with key \"dict\" \n",
    "print(dict[2]) \n",
    "print(dict[3])"
   ]
  },
  {
   "cell_type": "code",
   "execution_count": 42,
   "metadata": {},
   "outputs": [
    {
     "data": {
      "text/plain": [
       "{4: 'Venkatesh'}"
      ]
     },
     "execution_count": 42,
     "metadata": {},
     "output_type": "execute_result"
    }
   ],
   "source": [
    "dict.keys() # returns list of all keys\n",
    "dict.values() # returns list of all values\n",
    "dict.items() # # returns list of tuples mof keys and values\n",
    "dict[4] = \"Venkatesh\" # Adding an element to the Dict\n",
    "dict[4] = \"AVINASH\" # Upadating an a element\n",
    "dict.pop(4) # removeing an element\n",
    "dict.popitem() # Remove the one pair(key,value)\n",
    "dict.copy()"
   ]
  },
  {
   "cell_type": "markdown",
   "metadata": {},
   "source": [
    "#### Contacts Application\n",
    "- Add caontact\n",
    "- Searach for contact\n",
    "- List all contacts\n",
    "    - name1 : phone1\n",
    "    - name2 : phone2\n",
    "    - name3 : phone3\n",
    "    - name4 : phone4\n",
    "- Modify Contact\n",
    "- Remove contact\n"
   ]
  },
  {
   "cell_type": "code",
   "execution_count": 48,
   "metadata": {},
   "outputs": [
    {
     "name": "stdout",
     "output_type": "stream",
     "text": [
      "Contact Raj Added\n"
     ]
    }
   ],
   "source": [
    "contacts = {}\n",
    "\n",
    "def addContact(name,phone):\n",
    "    if name not in contacts:\n",
    "        contacts[name]=phone\n",
    "        print(\"Contact %s Added\" % name)\n",
    "        \n",
    "    else:\n",
    "        print(\"contact %s already exists\" % name)\n",
    "    return\n",
    "addContact(\"Raj\",\"7569546282\")"
   ]
  },
  {
   "cell_type": "code",
   "execution_count": 53,
   "metadata": {},
   "outputs": [
    {
     "name": "stdout",
     "output_type": "stream",
     "text": [
      "Raj : 7569546282\n"
     ]
    }
   ],
   "source": [
    "def serachContacts(name):\n",
    "    if name in contacts:\n",
    "        print(name, \":\",contacts[name])\n",
    "    else:\n",
    "        print(\" %s Does not Exists\" % name)\n",
    "serachContacts(\"Raj\")"
   ]
  },
  {
   "cell_type": "code",
   "execution_count": 65,
   "metadata": {},
   "outputs": [
    {
     "name": "stdout",
     "output_type": "stream",
     "text": [
      "123345677\n"
     ]
    }
   ],
   "source": [
    "def modifyContact(name):\n",
    "    if name in contacts:\n",
    "        a=contacts[\"Raj\"] = \"123345677\"\n",
    "        print(a)\n",
    "    else:\n",
    "        print(\"NO\")\n",
    "modifyContact(\"Raj\")      "
   ]
  },
  {
   "cell_type": "code",
   "execution_count": 67,
   "metadata": {},
   "outputs": [
    {
     "name": "stdout",
     "output_type": "stream",
     "text": [
      "Removed Raj\n"
     ]
    }
   ],
   "source": [
    "def removeContact(name):\n",
    "    if name in contacts:\n",
    "        b=contacts.pop(\"Raj\")\n",
    "        print(\"Removed\", name)\n",
    "    else:\n",
    "        print(\"Not Deleted\")\n",
    "removeContact(\"Raj\")        "
   ]
  },
  {
   "cell_type": "code",
   "execution_count": 72,
   "metadata": {},
   "outputs": [
    {
     "name": "stdout",
     "output_type": "stream",
     "text": [
      "2 contacts added sucessfully\n"
     ]
    }
   ],
   "source": [
    "def importContacts(newContact):\n",
    "    contacts.update(newContacts)\n",
    "    print(len(newContacts.keys()),\"contacts added sucessfully\")\n",
    "    return\n",
    "\n",
    "newContacts = {\"name2\":123456,\"name3\":56789999888,\"name3\":\"1234567890\"}\n",
    "importContacts(newContacts)"
   ]
  },
  {
   "cell_type": "code",
   "execution_count": 73,
   "metadata": {},
   "outputs": [
    {
     "name": "stdout",
     "output_type": "stream",
     "text": [
      "dict_items([('name2', 123456), ('name3', '1234567890')])\n"
     ]
    }
   ],
   "source": [
    "li=[]\n",
    "def ListAllContacts():\n",
    "    if contacts:\n",
    "        li.append(contacts)\n",
    "ListAllContacts()\n",
    "print(contacts.items())\n",
    "    "
   ]
  },
  {
   "cell_type": "code",
   "execution_count": 79,
   "metadata": {},
   "outputs": [
    {
     "data": {
      "text/plain": [
       "[{'name2': 123456, 'name3': '1234567890'}]"
      ]
     },
     "execution_count": 79,
     "metadata": {},
     "output_type": "execute_result"
    }
   ],
   "source": [
    "li"
   ]
  },
  {
   "cell_type": "code",
   "execution_count": 80,
   "metadata": {},
   "outputs": [
    {
     "name": "stdout",
     "output_type": "stream",
     "text": [
      "name2 : 123456\n",
      "name3 : 1234567890\n"
     ]
    }
   ],
   "source": [
    "def allContacts():\n",
    "   for i in contacts.items():\n",
    "       print(i[0],\":\",i[1])   \n",
    "allContacts()"
   ]
  },
  {
   "cell_type": "code",
   "execution_count": null,
   "metadata": {},
   "outputs": [],
   "source": []
  },
  {
   "cell_type": "markdown",
   "metadata": {},
   "source": [
    "#### Packages and Modules in Python\n",
    "\n",
    "**Package** --> Collection of Modules(Python File.py)\n",
    "\n",
    "**Sub Package** --> \n",
    "\n",
    "**Module**  --> It is a single python file containing Function\n",
    "\n",
    "Package --> Sub Packages --> Modules --> Functions\n"
   ]
  },
  {
   "cell_type": "code",
   "execution_count": 10,
   "metadata": {},
   "outputs": [
    {
     "name": "stdout",
     "output_type": "stream",
     "text": [
      "123\n",
      "3.141592653589793\n"
     ]
    }
   ],
   "source": [
    "from math import floor as fl\n",
    "#import math\n",
    "print(fl(123.4567))\n",
    "#math.pi\n",
    "print(pi)\n"
   ]
  },
  {
   "cell_type": "code",
   "execution_count": 4,
   "metadata": {},
   "outputs": [
    {
     "name": "stdout",
     "output_type": "stream",
     "text": [
      "29 83 17 76 17 68 96 62 71 20 "
     ]
    }
   ],
   "source": [
    "import random \n",
    "def generateNNumber(n,lb,ub):\n",
    "    for i in range(0,n):\n",
    "        print(random.randint(lb,ub), end=\" \")\n",
    "    \n",
    "generateNNumber(10,0,100)    "
   ]
  },
  {
   "cell_type": "code",
   "execution_count": 7,
   "metadata": {},
   "outputs": [
    {
     "data": {
      "text/plain": [
       "False"
      ]
     },
     "execution_count": 7,
     "metadata": {},
     "output_type": "execute_result"
    }
   ],
   "source": [
    "from Packages.numerical import isprime\n",
    "\n",
    "numerical.noofPrimeFactors(96)\n",
    "isprime(105)"
   ]
  },
  {
   "cell_type": "code",
   "execution_count": null,
   "metadata": {},
   "outputs": [],
   "source": []
  }
 ],
 "metadata": {
  "kernelspec": {
   "display_name": "Python 3",
   "language": "python",
   "name": "python3"
  },
  "language_info": {
   "codemirror_mode": {
    "name": "ipython",
    "version": 3
   },
   "file_extension": ".py",
   "mimetype": "text/x-python",
   "name": "python",
   "nbconvert_exporter": "python",
   "pygments_lexer": "ipython3",
   "version": "3.7.3"
  }
 },
 "nbformat": 4,
 "nbformat_minor": 2
}
