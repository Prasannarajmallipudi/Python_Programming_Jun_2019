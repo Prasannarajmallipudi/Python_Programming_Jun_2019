{
 "cells": [
  {
   "cell_type": "code",
   "execution_count": 24,
   "metadata": {},
   "outputs": [],
   "source": [
    "# Contact Application\n",
    "contact = {} # Empty Dict\n",
    "def addContact():\n",
    "    \n",
    "    n = int(input())\n",
    "    for record in range(n):\n",
    "        name = input()\n",
    "        mobile = input()\n",
    "        email = input()\n",
    "        contact[name]=[mobile,email]\n",
    "    with open(\"Datafiles/democontact.txt\" ,\"w\") as data:\n",
    "        for user in contact.items():\n",
    "            data.write(user[0]+\",\"+user[1][0]+\",\"+user[1][1]+\"\\n\")\n",
    "            \n",
    "    return \"Data Added\"        \n",
    "    \n"
   ]
  },
  {
   "cell_type": "code",
   "execution_count": 32,
   "metadata": {},
   "outputs": [
    {
     "name": "stdout",
     "output_type": "stream",
     "text": [
      "Datafiles/democontact.txt\n",
      "gopi\n",
      "77777777777\n",
      "gopi123\n"
     ]
    }
   ],
   "source": [
    "def modifyContact(filename):\n",
    "    updated_data= {}\n",
    "    name = input()\n",
    "    with open(filename) as f:\n",
    "        \n",
    "        for line in f:\n",
    "            line = line.strip().split(',')\n",
    "            if name in line:\n",
    "                mobile = input()\n",
    "                email = input()\n",
    "                line[1]= mobile\n",
    "                line[2]=email\n",
    "                updated_data[line[0]]=[line[1],line[2]]\n",
    "            else:\n",
    "                updated_data[line[0]]=[line[1],line[2]]\n",
    "                continue\n",
    "                \n",
    "    with open(filename,\"w\") as info:\n",
    "        for user in updated_data.items():\n",
    "            info.write(user[0]+\",\"+user[1][0]+\",\"+user[1][1]+\"\\n\")\n",
    "filename=input()\n",
    "modifyContact(filename)"
   ]
  },
  {
   "cell_type": "code",
   "execution_count": null,
   "metadata": {},
   "outputs": [],
   "source": []
  }
 ],
 "metadata": {
  "kernelspec": {
   "display_name": "Python 3",
   "language": "python",
   "name": "python3"
  },
  "language_info": {
   "codemirror_mode": {
    "name": "ipython",
    "version": 3
   },
   "file_extension": ".py",
   "mimetype": "text/x-python",
   "name": "python",
   "nbconvert_exporter": "python",
   "pygments_lexer": "ipython3",
   "version": "3.7.3"
  }
 },
 "nbformat": 4,
 "nbformat_minor": 2
}
