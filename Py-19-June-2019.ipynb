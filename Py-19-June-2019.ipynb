{
 "cells": [
  {
   "cell_type": "code",
   "execution_count": 1,
   "metadata": {},
   "outputs": [
    {
     "name": "stdout",
     "output_type": "stream",
     "text": [
      "180\n",
      "3\n",
      "123 123\n",
      "UPLOAD ANOTHER\n",
      "190 190\n",
      "ACCEPTED\n",
      "189 900\n",
      "CROP IT\n"
     ]
    }
   ],
   "source": [
    "def RoyandProfilePicture(L,W,H):\n",
    "    if W<L or H<L:\n",
    "        print(\"UPLOAD ANOTHER\")\n",
    "    elif W==H:\n",
    "        print(\"ACCEPTED\")\n",
    "    else:\n",
    "        print(\"CROP IT\")\n",
    "L=int(input())\n",
    "N=int(input())\n",
    "#for i in range(1,N+1):\n",
    "i= 1\n",
    "while i<=N:\n",
    "    \n",
    "    S=input().split()\n",
    "    W=int(S[0])\n",
    "    H=int(S[1])\n",
    "    RoyandProfilePicture(L,W,H)\n",
    "    i=i+1\n"
   ]
  },
  {
   "cell_type": "code",
   "execution_count": null,
   "metadata": {},
   "outputs": [],
   "source": []
  }
 ],
 "metadata": {
  "kernelspec": {
   "display_name": "Python 3",
   "language": "python",
   "name": "python3"
  },
  "language_info": {
   "codemirror_mode": {
    "name": "ipython",
    "version": 3
   },
   "file_extension": ".py",
   "mimetype": "text/x-python",
   "name": "python",
   "nbconvert_exporter": "python",
   "pygments_lexer": "ipython3",
   "version": "3.7.3"
  }
 },
 "nbformat": 4,
 "nbformat_minor": 2
}
