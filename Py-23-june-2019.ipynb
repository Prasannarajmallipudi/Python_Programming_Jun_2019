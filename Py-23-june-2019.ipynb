{
 "cells": [
  {
   "cell_type": "code",
   "execution_count": 13,
   "metadata": {},
   "outputs": [
    {
     "data": {
      "text/plain": [
       "'New Data Adding\\nNew Data Append1\\nPrasanna Raj'"
      ]
     },
     "execution_count": 13,
     "metadata": {},
     "output_type": "execute_result"
    }
   ],
   "source": [
    "# Converting file data into list using two ways\n",
    "# Each element in the list is one line in the file\n",
    "def readFile(filePath):\n",
    "    \"\"\"f = open(filePath, \"r\")\n",
    "    print(f.readline())\"\"\"\n",
    "    with open(filePath,'r') as f:\n",
    "        filedata = f.read() # f.read() used to read entire data at once or return entire data as a single string\n",
    "        #lines = filedata.split('\\n') # getting file data as list of strings # here filedata is string\n",
    "        # lines = []\n",
    "        # for line in f:\n",
    "            # lines.append(line)\n",
    "    return filedata\n",
    "        \n",
    "        \n",
    "filePath = 'Datafiles/data.txt'         \n",
    "readFile(filePath)"
   ]
  },
  {
   "cell_type": "code",
   "execution_count": 4,
   "metadata": {},
   "outputs": [
    {
     "data": {
      "text/plain": [
       "7"
      ]
     },
     "execution_count": 4,
     "metadata": {},
     "output_type": "execute_result"
    }
   ],
   "source": [
    "# Function to count the number of lines in a file\n",
    "def charCountFile(filepath):\n",
    "    count = len(readFile(filepath))\n",
    "    return count\n",
    "\n",
    "charCountFile('DataFiles/data.txt')\n"
   ]
  },
  {
   "cell_type": "code",
   "execution_count": 19,
   "metadata": {},
   "outputs": [
    {
     "name": "stdout",
     "output_type": "stream",
     "text": [
      "New Data Adding                                                                                                              \n",
      "New Data Append1\n",
      "Prasanna Raj\n"
     ]
    },
    {
     "data": {
      "text/plain": [
       "3"
      ]
     },
     "execution_count": 19,
     "metadata": {},
     "output_type": "execute_result"
    }
   ],
   "source": [
    "# Function to count the number of words in a file\n",
    "import re\n",
    "def wordCountFile(filepath):\n",
    "    count = 0\n",
    "    pattern = '[\\n]' # split data when you encounter a space( ) or new line(\\n)\n",
    "    filedata = readFile(filepath)\n",
    "    print(filedata)\n",
    "    a= re.split(pattern,filedata)\n",
    "    \n",
    "    count = len(a)\n",
    "    return count\n",
    "\n",
    "filepath = 'Datafiles/data.txt'\n",
    "wordCountFile(filepath)\n",
    "    "
   ]
  },
  {
   "cell_type": "code",
   "execution_count": null,
   "metadata": {},
   "outputs": [],
   "source": []
  },
  {
   "cell_type": "code",
   "execution_count": 3,
   "metadata": {},
   "outputs": [
    {
     "data": {
      "text/plain": [
       "['New', 'Data', 'Adding', 'Append1', 'Prasanna', 'Raj']"
      ]
     },
     "execution_count": 3,
     "metadata": {},
     "output_type": "execute_result"
    }
   ],
   "source": [
    "# Function to get unique elements in a list\n",
    "# [1,2,3,3,2,1] -> [1,2,3]\n",
    "# create a unique empty list\n",
    "def uniqueData():\n",
    "    unique = []\n",
    "    \n",
    "    # For every element in the main list,\n",
    "        #check if it exists in the unique list\n",
    "        #If it doesnt exists,add it to unique list\n",
    "        # If already exists move on to the next element in the main list\n",
    "    with open('Datafiles/data.txt','r') as f:\n",
    "        filedata = f.read()\n",
    "        lines = filedata.split('\\n')\n",
    "        for i in lines:\n",
    "            s = i.split()\n",
    "            for element in s:\n",
    "                if element not in unique:\n",
    "                    unique.append(element)\n",
    "    return unique\n",
    "\n",
    "#li = [1,2,3,3,2,1]\n",
    "uniqueData()"
   ]
  },
  {
   "cell_type": "code",
   "execution_count": 32,
   "metadata": {},
   "outputs": [
    {
     "data": {
      "text/plain": [
       "['data', 'in', 'line', '1', '2', '3']"
      ]
     },
     "execution_count": 32,
     "metadata": {},
     "output_type": "execute_result"
    }
   ],
   "source": [
    "# function to count the number of unique word in text file\n",
    "def countUniqueWords():\n",
    "    uniqueWords = 0\n",
    "    unique = []\n",
    "    wc = []\n",
    "    count = 0\n",
    "    with open('DataFiles/data.txt','r') as f:\n",
    "        filedata = f.read()\n",
    "        lines = filedata.split('\\n')\n",
    "        for i in lines:\n",
    "            s = i.split()\n",
    "            for element in s:\n",
    "                if element not in unique:\n",
    "                    unique.append(element)\n",
    "                    \n",
    "    return unique #len(unique) for finding length of unique word count\n",
    "countUniqueWords()"
   ]
  },
  {
   "cell_type": "code",
   "execution_count": 4,
   "metadata": {},
   "outputs": [
    {
     "name": "stdout",
     "output_type": "stream",
     "text": [
      "New 2\n",
      "Data 2\n",
      "Adding 1\n",
      "Append1 1\n",
      "Prasanna 1\n",
      "Raj 1\n"
     ]
    }
   ],
   "source": [
    "# Function to print the frequency count of a unique word\n",
    "# Frequency Distribution of data\n",
    "# Data in line 1\n",
    "# Data in line 2\n",
    "# Data in line 3\n",
    "# o/p\n",
    "# Data :3\n",
    "# in :3\n",
    "# line : 3\n",
    "# 1: 1\n",
    "# 2 : 2\n",
    "# 3 : 3\n",
    "def frequencyDistributionOfWord(filepath):\n",
    "    unique = []\n",
    "    with open(filepath,\"r\") as f:\n",
    "        filedata=f.read()\n",
    "        #print(filedata.split())\n",
    "        for i in filedata.split():\n",
    "            if i in unique:\n",
    "                continue\n",
    "            else:\n",
    "                unique.append(i)\n",
    "            print(i,filedata.split().count(i))\n",
    "    return\n",
    "frequencyDistributionOfWord(\"Datafiles/data.txt\")"
   ]
  },
  {
   "cell_type": "code",
   "execution_count": null,
   "metadata": {},
   "outputs": [],
   "source": []
  }
 ],
 "metadata": {
  "kernelspec": {
   "display_name": "Python 3",
   "language": "python",
   "name": "python3"
  },
  "language_info": {
   "codemirror_mode": {
    "name": "ipython",
    "version": 3
   },
   "file_extension": ".py",
   "mimetype": "text/x-python",
   "name": "python",
   "nbconvert_exporter": "python",
   "pygments_lexer": "ipython3",
   "version": "3.7.3"
  }
 },
 "nbformat": 4,
 "nbformat_minor": 2
}
