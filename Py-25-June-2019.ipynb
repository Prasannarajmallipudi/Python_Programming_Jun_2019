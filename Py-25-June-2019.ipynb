{
 "cells": [
  {
   "cell_type": "code",
   "execution_count": 2,
   "metadata": {},
   "outputs": [
    {
     "data": {
      "text/plain": [
       "True"
      ]
     },
     "execution_count": 2,
     "metadata": {},
     "output_type": "execute_result"
    }
   ],
   "source": [
    "# Function to check if two strings \n",
    "\n",
    "def checkAnagrams(s1,s2):\n",
    "    if len(s1) != len(s2):\n",
    "        return False\n",
    "    if sorted (s1) == sorted(s2):\n",
    "        return True\n",
    "    return False\n",
    "\n",
    "checkAnagrams('abc','bca')"
   ]
  },
  {
   "cell_type": "code",
   "execution_count": null,
   "metadata": {},
   "outputs": [
    {
     "name": "stdout",
     "output_type": "stream",
     "text": [
      "2\n",
      "qwerty\n",
      "tyrewq\n",
      "0\n"
     ]
    }
   ],
   "source": [
    "t = int(input())\n",
    "def charDeletionAnagrams(s1, s2):\n",
    "    uncommon = []\n",
    "    for i in s1:\n",
    "        if i not in s2:\n",
    "            uncommon.append(i)\n",
    "    for i in s2:\n",
    "        if i not in s1:\n",
    "            uncommon.append(i)\n",
    "    count = len(uncommon)\n",
    "   # freq1 -> Frequency of common characters in s1\n",
    "   # freq2 -> Frequency of common characters in s2\n",
    "    freqs1 = {}\n",
    "    freqs2 = {}\n",
    "    uniqs1 = []\n",
    "    uniqs2 = []\n",
    "    # Frequency of Unique Characters\n",
    "    for i in s1:\n",
    "        if i not in uncommon and i not in uniqs1:\n",
    "            freqs1[i] = s1.count(i)\n",
    "            uniqs1.append(i)\n",
    "    # Frequency of Unique Characters\n",
    "    for i in s2:\n",
    "        if i not in uncommon and i not in uniqs2:\n",
    "            freqs2[i] = s2.count(i)\n",
    "            uniqs2.append(i)\n",
    "    # Differnce in Frequency's for common Characters\n",
    "    for key in freqs1.keys():\n",
    "        count += abs(freqs1[key] - freqs2[key])\n",
    "    return count\n",
    "for i in range(0,t):\n",
    "    s1 = input()\n",
    "    s2 = input()\n",
    "    print(charDeletionAnagrams(s1, s2)) "
   ]
  },
  {
   "cell_type": "code",
   "execution_count": null,
   "metadata": {},
   "outputs": [],
   "source": [
    "# {a:4, g:9, i=6, p:213, c:6}\n",
    "# {4,6,6,9,213}\n",
    "# [a,c,q,i,p]\n",
    "# k = 3\n",
    "# li = []\n",
    "# for item in d.items():\n",
    "#      if item[1] == \n",
    "# li = [i, c]\n",
    "\n",
    "def kLargestfrequency(s, k):\n",
    "         # construct the frequency dictionary for all unique\n",
    "   unique = []\n",
    "   freq = {}\n",
    "   for i in s:\n",
    "       if i not in freq.keys():\n",
    "           freq[i] = s.count(i)\n",
    "           unique.append(i)\n",
    "   value = sorted(freq.values(), reversed=True)\n",
    "    "
   ]
  },
  {
   "cell_type": "code",
   "execution_count": 9,
   "metadata": {},
   "outputs": [
    {
     "data": {
      "text/plain": [
       "'b'"
      ]
     },
     "execution_count": 9,
     "metadata": {},
     "output_type": "execute_result"
    }
   ],
   "source": [
    "# Largest number in a list\n",
    "# Second Largest number in a list\n",
    "# kth largeset number in a list\n",
    "\n",
    "# Element with highest frequency\n",
    "# Kth highest frequency\n",
    "\n",
    "# {a:4,g:9,i:6,p:213,c:6}\n",
    "# [4,6,6,9,213]\n",
    "# [a,c,g,i,p]\n",
    "# k = 3\n",
    "# i\n",
    "# li = []\n",
    "# for item in d.i# {a:4,g:9,i:6,p:213,c:6}\n",
    "# [4,6,6,9,213]\n",
    "# [a,c,g,i,p]\n",
    "# k = 3\n",
    "# i\n",
    "# li = []\n",
    "# for item in d.items():\n",
    "def kLargestDictionary(s,k):\n",
    "       # Constructor the frequency dictionary for all unique\n",
    "    unique = []\n",
    "    freq = {}\n",
    "    for i in s:\n",
    "        if i not in freq.keys():\n",
    "            freq[i] = s.count(i)\n",
    "   # Extract unique frequencies in descending order\n",
    "    values = sorted(freq.values(),reverse = True)\n",
    "    uniqueValues = list(set(values))\n",
    "    uniqueValues = sorted(uniqueValues,reverse=True)\n",
    "   # Identifying kth largest frequency\n",
    "    if k<=len(uniqueValues):\n",
    "        kvalue = uniqueValues[k-1]\n",
    "    else:\n",
    "       return -1\n",
    "   # get all elements with kth largest frequency\n",
    "    li = []\n",
    "    for item in freq.items():\n",
    "        if item[1] == kvalue:\n",
    "            li.append(item[0])\n",
    "           # minimum of kth largest frequency\n",
    "    return min(li)\n",
    "\n",
    "#kLargestDictionary('aabcdcc',3).items()\n",
    "def kLargestDictionary(s,k):\n",
    "       # Constructor the frequency dictionary for all unique\n",
    "    unique = []\n",
    "    freq = {}\n",
    "    for i in s:\n",
    "        if i not in freq.keys():\n",
    "            freq[i] = s.count(i)\n",
    "   # Extract unique frequencies in descending order\n",
    "    values = sorted(freq.values(),reverse = True)\n",
    "    uniqueValues = list(set(values))\n",
    "    uniqueValues = sorted(uniqueValues,reverse=True)\n",
    "   # Identifying kth largest frequency\n",
    "    if k<=len(uniqueValues):\n",
    "        kvalue = uniqueValues[k-1]\n",
    "    else:\n",
    "        return -1\n",
    "   # get all elements with kth largest frequency\n",
    "    li = []\n",
    "    for item in freq.items():\n",
    "        if item[1] == kvalue:\n",
    "            li.append(item[0])\n",
    "           # minimum of kth largest frequency\n",
    "    return min(li)\n",
    "\n",
    "with open()\n",
    "\n",
    "#kLargestDictionary('aabcdcc',3)"
   ]
  },
  {
   "cell_type": "code",
   "execution_count": null,
   "metadata": {},
   "outputs": [],
   "source": [
    "# Function to find the Second Largeset number in list\n",
    "\n",
    "def secondLargest(li):\n",
    "    "
   ]
  }
 ],
 "metadata": {
  "kernelspec": {
   "display_name": "Python 3",
   "language": "python",
   "name": "python3"
  },
  "language_info": {
   "codemirror_mode": {
    "name": "ipython",
    "version": 3
   },
   "file_extension": ".py",
   "mimetype": "text/x-python",
   "name": "python",
   "nbconvert_exporter": "python",
   "pygments_lexer": "ipython3",
   "version": "3.7.3"
  }
 },
 "nbformat": 4,
 "nbformat_minor": 2
}
