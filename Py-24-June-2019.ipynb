{
 "cells": [
  {
   "cell_type": "code",
   "execution_count": 12,
   "metadata": {},
   "outputs": [
    {
     "name": "stdout",
     "output_type": "stream",
     "text": [
      "0 4 1 1 2 1 1 0 0 0 "
     ]
    }
   ],
   "source": [
    "# Digit frequency\n",
    "\n",
    "# S=\"123abc4564def111\"\n",
    "# 0 1 1 1 2 1 1  0 0 0\n",
    "\n",
    "# 1234567890\n",
    "# 1 1 1 1 1 1 1 1 1 1\n",
    "def uniqueData(allnumbers):\n",
    "    unique = []\n",
    "    for n in allnumbers:\n",
    "        if n not in unique:\n",
    "            unique.append(n)\n",
    "    return unique\n",
    "\n",
    "def digitFreq(s):\n",
    "    allnumbers = []\n",
    "    for i in s:\n",
    "        if i.isdigit():\n",
    "            allnumbers.append(i)\n",
    "    unique = uniqueData(allnumbers)\n",
    "    for i in range(0,10):\n",
    "        if str(i) not in unique:\n",
    "            print(0,end = \" \")\n",
    "        else:\n",
    "            count=allnumbers.count(str(i))\n",
    "            print(count,end = \" \")\n",
    "            \n",
    "    \n",
    "    \n",
    "     \n",
    "digitFreq('123abc4564def111')  "
   ]
  },
  {
   "cell_type": "code",
   "execution_count": null,
   "metadata": {},
   "outputs": [],
   "source": [
    "def digitFreq2(s):\n",
    "    for i in range(0,10):\n",
    "        count = s.count(str(i))\n",
    "        \n",
    "    "
   ]
  },
  {
   "cell_type": "code",
   "execution_count": 51,
   "metadata": {},
   "outputs": [
    {
     "data": {
      "text/plain": [
       "'mallipudi prasannaraj\\nprasanna mallipudi\\nmallipudi\\nPrasanna Raj\\nPRASANNARAJ\\n'"
      ]
     },
     "execution_count": 51,
     "metadata": {},
     "output_type": "execute_result"
    }
   ],
   "source": [
    "def readFile(filePath):\n",
    "    \"\"\"f = open(filePath, \"r\")\n",
    "    print(f.readline())\"\"\"\n",
    "    with open(filePath,'r') as f:\n",
    "        filedata = f.read() # f.read() used to read entire data at once or return entire data as a single string\n",
    "        #lines = filedata.split('\\n') # getting file data as list of strings # here filedata is string\n",
    "        # lines = []\n",
    "        # for line in f:\n",
    "            # lines.append(line)\n",
    "    return filedata\n",
    "        \n",
    "        \n",
    "filePath = 'Datafiles/data.txt'         \n",
    "readFile(filePath)"
   ]
  },
  {
   "cell_type": "code",
   "execution_count": 54,
   "metadata": {},
   "outputs": [
    {
     "name": "stdout",
     "output_type": "stream",
     "text": [
      "Old StringRaz\n",
      "New StringRaj\n"
     ]
    }
   ],
   "source": [
    "\n",
    "def replaceString(filePath):\n",
    "    fmod = ''\n",
    "    with open(filePath,'r') as f:\n",
    "        fread = f.read()\n",
    "        abc = input(\"Old String\")\n",
    "        abcd = input(\"New String\")\n",
    "        fmod = fread.replace(abc,abcd) \n",
    "        f.close()\n",
    "    #print(fmod)\n",
    "    with open(filepath, 'w') as f:\n",
    "        fupdate = f.write(fmod)\n",
    "filepath = \"./Datafiles/data.txt\"\n",
    "replaceString(filepath) "
   ]
  },
  {
   "cell_type": "code",
   "execution_count": 50,
   "metadata": {},
   "outputs": [
    {
     "ename": "NameError",
     "evalue": "name 'readFile' is not defined",
     "output_type": "error",
     "traceback": [
      "\u001b[1;31m---------------------------------------------------------------------------\u001b[0m",
      "\u001b[1;31mNameError\u001b[0m                                 Traceback (most recent call last)",
      "\u001b[1;32m<ipython-input-50-edebe08b9825>\u001b[0m in \u001b[0;36m<module>\u001b[1;34m\u001b[0m\n\u001b[0;32m     12\u001b[0m \u001b[1;33m\u001b[0m\u001b[0m\n\u001b[0;32m     13\u001b[0m \u001b[0mfilepath\u001b[0m \u001b[1;33m=\u001b[0m \u001b[1;34m'Datafiles/data.txt'\u001b[0m\u001b[1;33m\u001b[0m\u001b[1;33m\u001b[0m\u001b[0m\n\u001b[1;32m---> 14\u001b[1;33m \u001b[0mwordCountFile\u001b[0m\u001b[1;33m(\u001b[0m\u001b[0mfilepath\u001b[0m\u001b[1;33m)\u001b[0m\u001b[1;33m\u001b[0m\u001b[1;33m\u001b[0m\u001b[0m\n\u001b[0m",
      "\u001b[1;32m<ipython-input-50-edebe08b9825>\u001b[0m in \u001b[0;36mwordCountFile\u001b[1;34m(filepath)\u001b[0m\n\u001b[0;32m      4\u001b[0m     \u001b[0mcount\u001b[0m \u001b[1;33m=\u001b[0m \u001b[1;36m0\u001b[0m\u001b[1;33m\u001b[0m\u001b[1;33m\u001b[0m\u001b[0m\n\u001b[0;32m      5\u001b[0m     \u001b[0mpattern\u001b[0m \u001b[1;33m=\u001b[0m \u001b[1;34m'[\\n]'\u001b[0m \u001b[1;31m# split data when you encounter a space( ) or new line(\\n)\u001b[0m\u001b[1;33m\u001b[0m\u001b[1;33m\u001b[0m\u001b[0m\n\u001b[1;32m----> 6\u001b[1;33m     \u001b[0mfiledata\u001b[0m \u001b[1;33m=\u001b[0m \u001b[0mreadFile\u001b[0m\u001b[1;33m(\u001b[0m\u001b[0mfilepath\u001b[0m\u001b[1;33m)\u001b[0m\u001b[1;33m\u001b[0m\u001b[1;33m\u001b[0m\u001b[0m\n\u001b[0m\u001b[0;32m      7\u001b[0m     \u001b[0mprint\u001b[0m\u001b[1;33m(\u001b[0m\u001b[0mfiledata\u001b[0m\u001b[1;33m)\u001b[0m\u001b[1;33m\u001b[0m\u001b[1;33m\u001b[0m\u001b[0m\n\u001b[0;32m      8\u001b[0m     \u001b[0ma\u001b[0m\u001b[1;33m=\u001b[0m \u001b[0mre\u001b[0m\u001b[1;33m.\u001b[0m\u001b[0msplit\u001b[0m\u001b[1;33m(\u001b[0m\u001b[0mpattern\u001b[0m\u001b[1;33m,\u001b[0m\u001b[0mfiledata\u001b[0m\u001b[1;33m)\u001b[0m\u001b[1;33m\u001b[0m\u001b[1;33m\u001b[0m\u001b[0m\n",
      "\u001b[1;31mNameError\u001b[0m: name 'readFile' is not defined"
     ]
    }
   ],
   "source": [
    "import re\n",
    "\n",
    "def wordCountFile(filepath):\n",
    "    count = 0\n",
    "    pattern = '[\\n]' # split data when you encounter a space( ) or new line(\\n)\n",
    "    filedata = readFile(filepath)\n",
    "    print(filedata)\n",
    "    a= re.split(pattern,filedata)\n",
    "    \n",
    "    count = len(a)\n",
    "    return count\n",
    "\n",
    "filepath = 'Datafiles/data.txt'\n",
    "wordCountFile(filepath)"
   ]
  },
  {
   "cell_type": "code",
   "execution_count": 4,
   "metadata": {},
   "outputs": [
    {
     "name": "stdout",
     "output_type": "stream",
     "text": [
      "New 2\n",
      "Data 2\n",
      "Adding 1\n",
      "Append1 1\n",
      "Prasanna 1\n",
      "Raj 1\n",
      "Mallipudi 1\n"
     ]
    }
   ],
   "source": [
    "def frequencyDistributionOfWord(filepath):\n",
    "    unique = []\n",
    "    with open(filepath,\"r\") as f:\n",
    "        filedata=f.read()\n",
    "        #print(filedata.split())\n",
    "        for i in filedata.split():\n",
    "            if i in unique:\n",
    "                continue\n",
    "            else:\n",
    "                unique.append(i)\n",
    "            print(i,filedata.split().count(i))\n",
    "    return\n",
    "frequencyDistributionOfWord(\"Datafiles/data.txt\")"
   ]
  },
  {
   "cell_type": "code",
   "execution_count": null,
   "metadata": {},
   "outputs": [],
   "source": [
    "def freq2(filepath):\n",
    "    allwords= wordfromfile(filepath)\n",
    "    wordfreq = {}\n",
    "    \n",
    "    for word in allwords:\n",
    "        if word not in wordfreq.keys():\n",
    "            \n",
    "            wordfreq[word] = 1\n",
    "        else:\n",
    "            wordfreq[word] += 1\n",
    "    return "
   ]
  },
  {
   "cell_type": "code",
   "execution_count": null,
   "metadata": {},
   "outputs": [],
   "source": [
    "# Contact Application \n",
    "    # Add,Search,List,Modify Delete Contacts\n",
    "    \n",
    "# Find and repalce Application\n",
    "    # count the total no of occurances of words \n",
    "    # If word is Exsiting \n",
    "    # Replace all Occurances of a word with another word\n",
    "    # File Size\n",
    "    \n",
    "# Mark Analysis Application\n",
    "    # Generate Marks File for n students\n",
    "    # Input : Marks text file - each line contains of one Student\n",
    "    # Generate a report with the following information\n",
    "        # Class Average\n",
    "        # % of students passed\n",
    "        # % of students failed\n",
    "        # % of students with distribution\n",
    "        \n",
    "    "
   ]
  },
  {
   "cell_type": "code",
   "execution_count": 2,
   "metadata": {},
   "outputs": [],
   "source": [
    "# Function to generate marks data for n students\n",
    "import random\n",
    "\n",
    "def generateMarks(n,lb,ub):\n",
    "    with open('Datafiles/marks.txt','w') as f:\n",
    "        for i in range(0,n):\n",
    "            r = random.randint(lb,ub)\n",
    "            f.write(str(r)+'\\n')\n",
    "    return\n",
    "#n = int(input())\n",
    "generateMarks(3,1,100)        \n",
    "    "
   ]
  },
  {
   "cell_type": "code",
   "execution_count": 3,
   "metadata": {},
   "outputs": [
    {
     "name": "stdout",
     "output_type": "stream",
     "text": [
      "['66', '28', '5', '95', '82', '17', '9', '23', '35', '58', '95', '9', '7', '89', '42', '28', '87', '93', '4', '35']\n",
      "total =  20 sum = 907\n",
      "average is 45\n"
     ]
    }
   ],
   "source": [
    "def generateAverage():\n",
    "   sum = 0\n",
    "   count = 0\n",
    "   with open('Datafiles/marks.txt','r') as f:\n",
    "       filedata = f.read()\n",
    "       length = len(filedata.split())\n",
    "       values = filedata.split()\n",
    "       print(values)\n",
    "       #print('length of file is',len(values))\n",
    "       for i in values:\n",
    "           #print(i)\n",
    "           sum += int(i)\n",
    "           count += 1\n",
    "   print('total = ',count,'sum =',sum)\n",
    "   return print('average is',sum//count)\n",
    "\n",
    "\n",
    "\n",
    "generateMarks(20,0,100)\n",
    "generateAverage()      "
   ]
  },
  {
   "cell_type": "code",
   "execution_count": 59,
   "metadata": {},
   "outputs": [
    {
     "ename": "NameError",
     "evalue": "name 'readFileData' is not defined",
     "output_type": "error",
     "traceback": [
      "\u001b[1;31m---------------------------------------------------------------------------\u001b[0m",
      "\u001b[1;31mNameError\u001b[0m                                 Traceback (most recent call last)",
      "\u001b[1;32m<ipython-input-59-76b4da18031d>\u001b[0m in \u001b[0;36m<module>\u001b[1;34m\u001b[0m\n\u001b[0;32m      8\u001b[0m     \u001b[1;32mreturn\u001b[0m \u001b[0mmarksdata\u001b[0m\u001b[1;33m\u001b[0m\u001b[1;33m\u001b[0m\u001b[0m\n\u001b[0;32m      9\u001b[0m \u001b[1;33m\u001b[0m\u001b[0m\n\u001b[1;32m---> 10\u001b[1;33m \u001b[0mmarksdata\u001b[0m \u001b[1;33m=\u001b[0m \u001b[0mgenerateMarks\u001b[0m\u001b[1;33m(\u001b[0m\u001b[1;34m'Datafiles/marks.txt'\u001b[0m\u001b[1;33m)\u001b[0m\u001b[1;33m\u001b[0m\u001b[1;33m\u001b[0m\u001b[0m\n\u001b[0m\u001b[0;32m     11\u001b[0m \u001b[1;33m\u001b[0m\u001b[0m\n\u001b[0;32m     12\u001b[0m \u001b[1;32mdef\u001b[0m \u001b[0mdistinction\u001b[0m\u001b[1;33m(\u001b[0m\u001b[0mmark\u001b[0m\u001b[1;33m)\u001b[0m\u001b[1;33m:\u001b[0m\u001b[1;33m\u001b[0m\u001b[1;33m\u001b[0m\u001b[0m\n",
      "\u001b[1;32m<ipython-input-59-76b4da18031d>\u001b[0m in \u001b[0;36mgenerateMarks\u001b[1;34m(marksfile)\u001b[0m\n\u001b[0;32m      1\u001b[0m \u001b[1;32mimport\u001b[0m \u001b[0mre\u001b[0m\u001b[1;33m\u001b[0m\u001b[1;33m\u001b[0m\u001b[0m\n\u001b[0;32m      2\u001b[0m \u001b[1;32mdef\u001b[0m \u001b[0mgenerateMarks\u001b[0m\u001b[1;33m(\u001b[0m\u001b[0mmarksfile\u001b[0m\u001b[1;33m)\u001b[0m\u001b[1;33m:\u001b[0m\u001b[1;33m\u001b[0m\u001b[1;33m\u001b[0m\u001b[0m\n\u001b[1;32m----> 3\u001b[1;33m     \u001b[0mmarksdata\u001b[0m \u001b[1;33m=\u001b[0m \u001b[0mreadFileData\u001b[0m\u001b[1;33m(\u001b[0m\u001b[0mmarksfile\u001b[0m\u001b[1;33m)\u001b[0m\u001b[1;33m\u001b[0m\u001b[1;33m\u001b[0m\u001b[0m\n\u001b[0m\u001b[0;32m      4\u001b[0m     \u001b[0mmarksdata\u001b[0m \u001b[1;33m=\u001b[0m \u001b[0mre\u001b[0m\u001b[1;33m.\u001b[0m\u001b[0msplit\u001b[0m\u001b[1;33m(\u001b[0m\u001b[1;34mr'\\n'\u001b[0m\u001b[1;33m,\u001b[0m \u001b[0mmarksdata\u001b[0m\u001b[1;33m)\u001b[0m\u001b[1;33m\u001b[0m\u001b[1;33m\u001b[0m\u001b[0m\n\u001b[0;32m      5\u001b[0m     \u001b[0mmarksdata\u001b[0m \u001b[1;33m=\u001b[0m \u001b[0mlist\u001b[0m\u001b[1;33m(\u001b[0m\u001b[0mmap\u001b[0m\u001b[1;33m(\u001b[0m\u001b[0mint\u001b[0m\u001b[1;33m,\u001b[0m \u001b[0mmarksdata\u001b[0m\u001b[1;33m[\u001b[0m\u001b[1;33m:\u001b[0m\u001b[0mlen\u001b[0m\u001b[1;33m(\u001b[0m\u001b[0mmarksdata\u001b[0m\u001b[1;33m)\u001b[0m\u001b[1;33m-\u001b[0m\u001b[1;36m1\u001b[0m\u001b[1;33m]\u001b[0m\u001b[1;33m)\u001b[0m\u001b[1;33m)\u001b[0m\u001b[1;33m\u001b[0m\u001b[1;33m\u001b[0m\u001b[0m\n",
      "\u001b[1;31mNameError\u001b[0m: name 'readFileData' is not defined"
     ]
    }
   ],
   "source": [
    "import re\n",
    "def generateMarks(marksfile):\n",
    "    marksdata = readFileData(marksfile)\n",
    "    marksdata = re.split(r'\\n', marksdata)\n",
    "    marksdata = list(map(int, marksdata[:len(marksdata)-1]))\n",
    "    print(max(marksdata))\n",
    "    print(min(marksdata))\n",
    "    return marksdata\n",
    "\n",
    "marksdata = generateMarks('Datafiles/marks.txt')\n",
    "\n",
    "def distinction(mark):\n",
    "    return mark >= 80\n",
    "\n",
    "dis = sum(map(distinction, marksdata))\n",
    "print(\"distintion:\"+str(dis))\n",
    "\n",
    "failed = sum(1 for i in marksdata if i < 40)\n",
    "print(\"failed:\"+str(failed))\n",
    "\n",
    "passed = sum(1 for i in marksdata if i >= 40)\n",
    "print(\"passed:\"+str(passed))"
   ]
  },
  {
   "cell_type": "code",
   "execution_count": null,
   "metadata": {},
   "outputs": [],
   "source": [
    "import re\n",
    "def generateMarks(marksfile):\n",
    "    marksdata = readFileData(marksfile)\n",
    "    marksdata = re.split(r'\\n', marksdata)\n",
    "    marksdata = list(map(int, marksdata[:len(marksdata)-1]))\n",
    "    print(max(marksdata))\n",
    "    print(min(marksdata))\n",
    "    return marksdata\n",
    "\n",
    "marksdata = generateMarks('Datafiles/marks.txt')\n",
    "\n",
    "def distinction(mark):\n",
    "    return mark >= 80\n",
    "\n",
    "dis = sum(map(distinction, marksdata))\n",
    "print(\"distintion:\"+str(dis))\n",
    "\n",
    "failed = sum(1 for i in marksdata if i < 40)\n",
    "#def failed(mark):\n",
    "    #for i in marksdata:\n",
    "        #if i< 40:\n",
    "            \n",
    "print(\"failed:\"+str(failed))\n",
    "\n",
    "passed = sum(1 for i in marksdata if i >= 40)\n",
    "print(\"passed:\"+str(passed))\n"
   ]
  }
 ],
 "metadata": {
  "kernelspec": {
   "display_name": "Python 3",
   "language": "python",
   "name": "python3"
  },
  "language_info": {
   "codemirror_mode": {
    "name": "ipython",
    "version": 3
   },
   "file_extension": ".py",
   "mimetype": "text/x-python",
   "name": "python",
   "nbconvert_exporter": "python",
   "pygments_lexer": "ipython3",
   "version": "3.7.3"
  }
 },
 "nbformat": 4,
 "nbformat_minor": 2
}
