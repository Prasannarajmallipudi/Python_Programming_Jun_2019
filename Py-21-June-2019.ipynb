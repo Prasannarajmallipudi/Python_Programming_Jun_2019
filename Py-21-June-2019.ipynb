{
 "cells": [
  {
   "cell_type": "code",
   "execution_count": 8,
   "metadata": {},
   "outputs": [
    {
     "name": "stdout",
     "output_type": "stream",
     "text": [
      "12X345-67\n",
      "invalid\n"
     ]
    }
   ],
   "source": [
    "s=input()\n",
    "l=len(s)\n",
    "for i in range(l):\n",
    "    for j in range(i+1,l):\n",
    "        if((i!=\"A\" and i!=\"E\" and i!=\"I\" and i!=\"O\" and i!=\"U\" and i!=\"Y\")):\n",
    "            \n",
    "            if((i==3 and (i+j)%2==0) and (i==5  and ((i+2)%2)==0) ):\n",
    "                print(\"Valid\")\n",
    "else:\n",
    "    print(\"invalid\")"
   ]
  },
  {
   "cell_type": "code",
   "execution_count": 10,
   "metadata": {},
   "outputs": [
    {
     "name": "stdout",
     "output_type": "stream",
     "text": [
      "12\n",
      "12\n",
      "123\n",
      "12\n",
      "12\n",
      "23\n",
      "23\n",
      "34\n",
      "34\n",
      "40\n",
      "40\n",
      "42\n"
     ]
    }
   ],
   "source": [
    "def life():\n",
    "    while True:\n",
    "        A=int(input())\n",
    "        l=len(str(A))\n",
    "        if A!=42:\n",
    "            if l==1 or l==2:\n",
    "                print(A)\n",
    "            else:\n",
    "                continue\n",
    "        else:\n",
    "            break\n",
    "life()\n",
    "    "
   ]
  },
  {
   "cell_type": "code",
   "execution_count": 15,
   "metadata": {},
   "outputs": [
    {
     "name": "stdout",
     "output_type": "stream",
     "text": [
      "z\n",
      "z\n"
     ]
    }
   ],
   "source": [
    "def isPalindrome(s):\n",
    "    if(s==s[::-1]):\n",
    "        return True\n",
    "    else:\n",
    "        return False\n",
    "\n",
    "        \n",
    "\n",
    "def panlindromicSubstring(s1):\n",
    "    v = 0\n",
    "    for i in range(1,len(s1)+1):\n",
    "        if(isPalindrome(s1[v:v+i])==True):\n",
    "            print(s1[v:v+i])\n",
    "        else:\n",
    "            continue\n",
    "            \n",
    "s1 = input()\n",
    "\n",
    "panlindromicSubstring(s1)\n",
    "            \n",
    "    "
   ]
  },
  {
   "cell_type": "code",
   "execution_count": 16,
   "metadata": {},
   "outputs": [],
   "source": [
    "# Contacts list 1\n",
    "contacts = {\"name1\":[9876543212,\"asdff@gmail.com\"],\"vamsi\":[8099610076,\"vmskrishna@gmail.com\"],\"name2\":[7891234567,\"lkjhe@gmail.com\"],\"name1\":[9876543212,\"asdff@gmail.com\"],\"name3\":[7391235367,\"srgsfde@gmail.com\"]}\n",
    "\n",
    "def addContact(name,phone,email):   # contact will add only when contact doesnt exists\n",
    "    if name in contacts:# and phoneNumberValidator(phone):    # checking whether the input contact is already exists\n",
    "        print(\"contact %s already exists\" % name)\n",
    "        return\n",
    "    else:\n",
    "        if not phoneNumberValidator(phone):\n",
    "            print(\"invalid number\")\n",
    "            return\n",
    "        if not emailValidator(email):\n",
    "            print(\"invalid email\")\n",
    "            return\n",
    "        newcontact = []\n",
    "        newcontact.append(phone)\n",
    "        newcontact.append(email)\n",
    "        contacts[name] = newcontact\n",
    "    return \"contact added successfully\"\n",
    "# addContact(\"vamsi\",8099610076,\"vmskrishna@gmail.com\")\n",
    "# contacts\n",
    "\n",
    "# searching contacts\n",
    "def searchContact(name):\n",
    "    if name in contacts:\n",
    "        print(name)\n",
    "        print(\"phone :\",contacts[name][0])\n",
    "        print(\"Email :\",contacts[name][1])\n",
    "    else:\n",
    "        print(\"%s doesnt exists\" %name)\n",
    "    return\n",
    "\n",
    "def listAllContacts():\n",
    "    for contact,info in contacts.items():  # contact is key,info is name and email\n",
    "        print(contact,\"\\n\",\"Phone :\",info[0],\"\\n\",\"email :\",info[1])\n",
    "    return\n",
    "\n",
    "# New contacts is given as a dictionary\n",
    "# newContacts = {\"narayana\":[9618286014,\"parx@gmail.com\"],\"name2\":[7891234567,\"lkjhe@gmail.com\"],\"name1\":[9876543212,\"asdff@gmail.com\"],\"name3\":[7891235367,\"srgsfde@gmail.com\"]}\n",
    "# Merge new contacts with existing contacts\n",
    "newContacts= {}\n",
    "def importContacts(newContacts):\n",
    "    contacts.update(newContacts)\n",
    "    # print(len(newcontacts.keys()),\"Contacts added successfully\")\n",
    "    return\n",
    "\n",
    "def removeContact(name):\n",
    "    if name in contacts:\n",
    "        contacts.pop(name)\n",
    "        print(name,\":\",contacts[name],\"deleted\")\n",
    "    else:\n",
    "        print(\"contact doest exists to delete\")\n",
    "    return\n",
    "\n",
    "# Contacts list 2\n",
    "newContacts = {\"parx\":[9618286014,\"parx@gmail.com\"],\"peter\":[7891234567,\"peter@gmail.com\"],\"celio\":[9876543212,\"celio@gmail.com\"],\"name3\":[7891235367,\"srgsfde@gmail.com\"]}"
   ]
  },
  {
   "cell_type": "code",
   "execution_count": 17,
   "metadata": {},
   "outputs": [],
   "source": [
    "# Function to write data into file\n",
    "\n",
    "def writeIntoFile(filename,filedata):\n",
    "    with open(filename,'w') as f: # use 'w' if it is a new file   if it is not new data is already present then use 'a' to append data tothe existing data\n",
    "        f.write(filedata)\n",
    "    return\n",
    "filename = \"Datafiles/data.txt\"\n",
    "writeIntoFile(filename,\"This time i am using 'append' so data is appended to the previous data\")"
   ]
  },
  {
   "cell_type": "code",
   "execution_count": 18,
   "metadata": {},
   "outputs": [],
   "source": [
    "def writeIntoFileUsingAppend(filename,filedata):\n",
    "    with open(filename,'a') as f: # use 'w' if it is a new file   if it is not new data is already present then use 'a' to append data tothe existing data\n",
    "        f.write(filedata)\n",
    "    return\n",
    "filename = \"Datafiles/data.txt\"\n",
    "writeIntoFileUsingAppend(filename,\"This time i am using 'appending1' so data is appended to the previous data\")"
   ]
  },
  {
   "cell_type": "code",
   "execution_count": 19,
   "metadata": {},
   "outputs": [],
   "source": [
    "def writeIntoFileUsingAppend(filename,filedata):\n",
    "    with open(filename,'a') as f:# use 'w' if it is a new file   if it is not new data is already present then use 'a' to append data tothe existing data\n",
    "        for line in filedata:\n",
    "            f.write('\\n'+line)\n",
    "    return\n",
    "filedata = [\"line2\",\"line 3\"]\n",
    "filename = \"Datafiles/data.txt\"\n",
    "writeIntoFileUsingAppend(filename,filedata)"
   ]
  },
  {
   "cell_type": "code",
   "execution_count": 21,
   "metadata": {},
   "outputs": [
    {
     "ename": "KeyError",
     "evalue": "'prasanna'",
     "output_type": "error",
     "traceback": [
      "\u001b[1;31m---------------------------------------------------------------------------\u001b[0m",
      "\u001b[1;31mKeyError\u001b[0m                                  Traceback (most recent call last)",
      "\u001b[1;32m<ipython-input-21-735b95cf2a1e>\u001b[0m in \u001b[0;36m<module>\u001b[1;34m\u001b[0m\n\u001b[0;32m     56\u001b[0m \u001b[0mimportContacts\u001b[0m\u001b[1;33m(\u001b[0m\u001b[0mnewContacts\u001b[0m\u001b[1;33m)\u001b[0m\u001b[1;33m\u001b[0m\u001b[1;33m\u001b[0m\u001b[0m\n\u001b[0;32m     57\u001b[0m \u001b[0mcontacts\u001b[0m\u001b[1;33m\u001b[0m\u001b[1;33m\u001b[0m\u001b[0m\n\u001b[1;32m---> 58\u001b[1;33m \u001b[0mremoveContact\u001b[0m\u001b[1;33m(\u001b[0m\u001b[1;34m\"prasanna\"\u001b[0m\u001b[1;33m)\u001b[0m\u001b[1;33m\u001b[0m\u001b[1;33m\u001b[0m\u001b[0m\n\u001b[0m",
      "\u001b[1;32m<ipython-input-21-735b95cf2a1e>\u001b[0m in \u001b[0;36mremoveContact\u001b[1;34m(name)\u001b[0m\n\u001b[0;32m     44\u001b[0m     \u001b[1;32mif\u001b[0m \u001b[0mname\u001b[0m \u001b[1;32min\u001b[0m \u001b[0mcontacts\u001b[0m\u001b[1;33m:\u001b[0m\u001b[1;33m\u001b[0m\u001b[1;33m\u001b[0m\u001b[0m\n\u001b[0;32m     45\u001b[0m         \u001b[0mcontacts\u001b[0m\u001b[1;33m.\u001b[0m\u001b[0mpop\u001b[0m\u001b[1;33m(\u001b[0m\u001b[0mname\u001b[0m\u001b[1;33m)\u001b[0m\u001b[1;33m\u001b[0m\u001b[1;33m\u001b[0m\u001b[0m\n\u001b[1;32m---> 46\u001b[1;33m         \u001b[0mprint\u001b[0m\u001b[1;33m(\u001b[0m\u001b[0mname\u001b[0m\u001b[1;33m,\u001b[0m\u001b[1;34m\":\"\u001b[0m\u001b[1;33m,\u001b[0m\u001b[0mcontacts\u001b[0m\u001b[1;33m[\u001b[0m\u001b[0mname\u001b[0m\u001b[1;33m]\u001b[0m\u001b[1;33m,\u001b[0m\u001b[1;34m\"deleted\"\u001b[0m\u001b[1;33m)\u001b[0m\u001b[1;33m\u001b[0m\u001b[1;33m\u001b[0m\u001b[0m\n\u001b[0m\u001b[0;32m     47\u001b[0m     \u001b[1;32melse\u001b[0m\u001b[1;33m:\u001b[0m\u001b[1;33m\u001b[0m\u001b[1;33m\u001b[0m\u001b[0m\n\u001b[0;32m     48\u001b[0m         \u001b[0mprint\u001b[0m\u001b[1;33m(\u001b[0m\u001b[1;34m\"contact doest exists to delete\"\u001b[0m\u001b[1;33m)\u001b[0m\u001b[1;33m\u001b[0m\u001b[1;33m\u001b[0m\u001b[0m\n",
      "\u001b[1;31mKeyError\u001b[0m: 'prasanna'"
     ]
    }
   ],
   "source": [
    "# Contacts list 1\n",
    "contacts = {\"name1\":[9876543212,\"as@gmail.com\"],\"prasanna\":[8099610076,\"prasanna@gmail.com\"],\"name2\":[7998989897,\"abc@gmail.com\"],\"name1\":[9133445512,\"asf@gmail.com\"],\"name3\":[7312121267,\"surya@gmail.com\"]}\n",
    "\n",
    "def addContact(name,phone,email):   # contact will add only when contact doesnt exists\n",
    "    if name in contacts:# and phoneNumberValidator(phone):    # checking whether the input contact is already exists\n",
    "        print(\"contact %s already exists\" % name)\n",
    "        return\n",
    "    else:\n",
    "        if not phoneNumberValidator(phone):\n",
    "            print(\"invalid number\")\n",
    "            return\n",
    "        if not emailValidator(email):\n",
    "            print(\"invalid email\")\n",
    "            return\n",
    "        newcontact = []\n",
    "        newcontact.append(phone)\n",
    "        newcontact.append(email)\n",
    "        contacts[name] = newcontact\n",
    "    return \"contact added successfully\"\n",
    "\n",
    "\n",
    "# searching contacts\n",
    "def searchContact(name):\n",
    "    if name in contacts:\n",
    "        print(name)\n",
    "        print(\"phone :\",contacts[name][0])\n",
    "        print(\"Email :\",contacts[name][1])\n",
    "    else:\n",
    "        print(\"%s doesnt exists\" %name)\n",
    "    return\n",
    "\n",
    "def listAllContacts():\n",
    "    for contact,info in contacts.items():  # contact is key,info is name and email\n",
    "        print(contact,\"\\n\",\"Phone :\",info[0],\"\\n\",\"email :\",info[1])\n",
    "    return\n",
    "\n",
    "newContacts= {}\n",
    "def importContacts(newContacts):\n",
    "    contacts.update(newContacts)\n",
    "    # print(len(newcontacts.keys()),\"Contacts added successfully\")\n",
    "    return\n",
    "\n",
    "def removeContact(name):\n",
    "    if name in contacts:\n",
    "        contacts.pop(name)\n",
    "        print(name,\":\",contacts[name],\"deleted\")\n",
    "    else:\n",
    "        print(\"contact doest exists to delete\")\n",
    "    return\n",
    "\n",
    "# Contacts list 2\n",
    "newContacts = {\"raj\":[9618286014,\"raj@gmail.com\"],\"raz\":[7891234567,\"raz@gmail.com\"],\"Prasanna\":[9876543212,\"prasanna@gmail.com\"],\"name3\":[7891235367,\"srgsfde@gmail.com\"]}\n",
    "\n",
    "#listAllContacts()\n",
    "\n",
    "importContacts(newContacts)\n",
    "contacts\n",
    "removeContact(\"prasanna\")"
   ]
  },
  {
   "cell_type": "code",
   "execution_count": null,
   "metadata": {},
   "outputs": [],
   "source": []
  },
  {
   "cell_type": "code",
   "execution_count": 6,
   "metadata": {},
   "outputs": [
    {
     "ename": "NameError",
     "evalue": "name 'filename' is not defined",
     "output_type": "error",
     "traceback": [
      "\u001b[1;31m---------------------------------------------------------------------------\u001b[0m",
      "\u001b[1;31mNameError\u001b[0m                                 Traceback (most recent call last)",
      "\u001b[1;32m<ipython-input-6-96d722fc252b>\u001b[0m in \u001b[0;36m<module>\u001b[1;34m\u001b[0m\n\u001b[0;32m     34\u001b[0m         \u001b[1;32mreturn\u001b[0m \u001b[0mre\u001b[0m\u001b[1;33m.\u001b[0m\u001b[0msearch\u001b[0m\u001b[1;33m(\u001b[0m\u001b[0mpattern\u001b[0m\u001b[1;33m,\u001b[0m\u001b[0mfiledata\u001b[0m\u001b[1;33m)\u001b[0m\u001b[1;33m\u001b[0m\u001b[1;33m\u001b[0m\u001b[0m\n\u001b[0;32m     35\u001b[0m \u001b[1;31m#addContact('PJ',9898989898,'raj1429@gmail.com')\u001b[0m\u001b[1;33m\u001b[0m\u001b[1;33m\u001b[0m\u001b[1;33m\u001b[0m\u001b[0m\n\u001b[1;32m---> 36\u001b[1;33m \u001b[0mcheckContactsExisits\u001b[0m\u001b[1;33m(\u001b[0m\u001b[1;34m'Prasanna'\u001b[0m\u001b[1;33m)\u001b[0m\u001b[1;33m\u001b[0m\u001b[1;33m\u001b[0m\u001b[0m\n\u001b[0m",
      "\u001b[1;32m<ipython-input-6-96d722fc252b>\u001b[0m in \u001b[0;36mcheckContactsExisits\u001b[1;34m(name)\u001b[0m\n\u001b[0;32m     28\u001b[0m \u001b[1;32mimport\u001b[0m \u001b[0mre\u001b[0m\u001b[1;33m\u001b[0m\u001b[1;33m\u001b[0m\u001b[0m\n\u001b[0;32m     29\u001b[0m \u001b[1;32mdef\u001b[0m \u001b[0mcheckContactsExisits\u001b[0m\u001b[1;33m(\u001b[0m\u001b[0mname\u001b[0m\u001b[1;33m)\u001b[0m\u001b[1;33m:\u001b[0m\u001b[1;33m\u001b[0m\u001b[1;33m\u001b[0m\u001b[0m\n\u001b[1;32m---> 30\u001b[1;33m     \u001b[0mfilename\u001b[0m\u001b[1;33m==\u001b[0m \u001b[1;34m'Datafiles/contacts.txt'\u001b[0m\u001b[1;33m\u001b[0m\u001b[1;33m\u001b[0m\u001b[0m\n\u001b[0m\u001b[0;32m     31\u001b[0m     \u001b[1;32mwith\u001b[0m \u001b[0mopen\u001b[0m\u001b[1;33m(\u001b[0m\u001b[0mfilename\u001b[0m\u001b[1;33m,\u001b[0m\u001b[1;34m'r'\u001b[0m\u001b[1;33m)\u001b[0m \u001b[1;32mas\u001b[0m \u001b[0mf\u001b[0m\u001b[1;33m:\u001b[0m\u001b[1;33m\u001b[0m\u001b[1;33m\u001b[0m\u001b[0m\n\u001b[0;32m     32\u001b[0m         \u001b[0mfiledata\u001b[0m \u001b[1;33m=\u001b[0m \u001b[0mf\u001b[0m\u001b[1;33m.\u001b[0m\u001b[0mread\u001b[0m\u001b[1;33m(\u001b[0m\u001b[1;33m)\u001b[0m\u001b[1;33m\u001b[0m\u001b[1;33m\u001b[0m\u001b[0m\n",
      "\u001b[1;31mNameError\u001b[0m: name 'filename' is not defined"
     ]
    }
   ],
   "source": [
    "# Function to validate \n",
    "from Packages.validators import phoneNumberValidator as pnv,emailValidator as ev\n",
    "#from Packages.validators import emailValidator as ev\n",
    "def addContact(name, phone, email):\n",
    "    # Store data as name,phone,email in the contacts files\n",
    "    \n",
    "    filename = 'Datafiles/contacts.txt'\n",
    "    if not checkContactsExisits(name):\n",
    "        #if phoneNumberValidator(phone):\n",
    "        if pnv(phone) and ev(email):\n",
    "                \n",
    "            with open(filename,'a') as f:\n",
    "                line= name + \",\" + str(phone) + \",\" +email + '\\n'\n",
    "                f.write(line)\n",
    "                print(name,\"added to contacts\")\n",
    "        \n",
    "        else:\n",
    "            print(\"Invalid Email or Phone\")\n",
    "            return\n",
    "        \n",
    "                \n",
    "    else:\n",
    "        print(name,\"Already Exists\")\n",
    "    return\n",
    "\n",
    "\n",
    "\n",
    "import re\n",
    "def checkContactsExisits(name):\n",
    "    filename== 'Datafiles/contacts.txt'\n",
    "    with open(filename,'r') as f:\n",
    "        filedata = f.read()\n",
    "        pattern = name+ ','\n",
    "        return re.search(pattern,filedata)\n",
    "#addContact('PJ',9898989898,'raj1429@gmail.com')\n",
    "checkContactsExisits('Prasanna')"
   ]
  },
  {
   "cell_type": "code",
   "execution_count": 7,
   "metadata": {},
   "outputs": [
    {
     "data": {
      "text/plain": [
       "' name1,7569456282,name1@gmail.com\\nname1,7569456282,name1@gmail.com\\nname1,7569456282,name1@gmail.com\\n'"
      ]
     },
     "execution_count": 7,
     "metadata": {},
     "output_type": "execute_result"
    }
   ],
   "source": [
    "filename = 'Datafiles/contacts.txt'\n",
    "def csvFileList(filename):\n",
    "    li=[]\n",
    "    with open(filename,'r') as f:\n",
    "        for line in f:\n",
    "            li.append(line.split(','))\n",
    "    return li\n",
    "\n",
    "def listToFile(li):\n",
    "    s =' '\n",
    "    for i in li:\n",
    "        s+=',' .join(i)\n",
    "    return s\n",
    "        \n",
    "li=csvFileList(filename)\n",
    "listToFile(li)"
   ]
  },
  {
   "cell_type": "code",
   "execution_count": null,
   "metadata": {},
   "outputs": [],
   "source": []
  }
 ],
 "metadata": {
  "kernelspec": {
   "display_name": "Python 3",
   "language": "python",
   "name": "python3"
  },
  "language_info": {
   "codemirror_mode": {
    "name": "ipython",
    "version": 3
   },
   "file_extension": ".py",
   "mimetype": "text/x-python",
   "name": "python",
   "nbconvert_exporter": "python",
   "pygments_lexer": "ipython3",
   "version": "3.7.3"
  }
 },
 "nbformat": 4,
 "nbformat_minor": 2
}
