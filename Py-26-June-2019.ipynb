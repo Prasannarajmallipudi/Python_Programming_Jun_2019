{
 "cells": [
  {
   "cell_type": "code",
   "execution_count": 9,
   "metadata": {},
   "outputs": [
    {
     "data": {
      "text/plain": [
       "7"
      ]
     },
     "execution_count": 9,
     "metadata": {},
     "output_type": "execute_result"
    }
   ],
   "source": [
    "# Largest number in a list\n",
    "# Second Largest number in a list\n",
    "# kth largeset number in a list\n",
    "\n",
    "# Element with highest frequency\n",
    "# Kth highest frequency\n",
    "\n",
    "\n",
    "# Function to find the Second Largeset number in list\n",
    "\n",
    "def secondLargest(li):\n",
    "    # Convert the list into a unique list\n",
    "    unique =[]\n",
    "    for n in li:\n",
    "        if n not in unique:\n",
    "            unique.append(n)\n",
    "    unique = sorted(unique,reverse = True)\n",
    "    return unique[1]\n",
    "secondLargest([1,2,3,4,5,6,7,8,7,7])\n"
   ]
  },
  {
   "cell_type": "code",
   "execution_count": 11,
   "metadata": {},
   "outputs": [
    {
     "name": "stdout",
     "output_type": "stream",
     "text": [
      "[1, 2, 3, 4, 5, 6, 7, 8]\n"
     ]
    },
    {
     "data": {
      "text/plain": [
       "5"
      ]
     },
     "execution_count": 11,
     "metadata": {},
     "output_type": "execute_result"
    }
   ],
   "source": [
    "def fifthLeast(li):\n",
    "    unique =[]\n",
    "    for n in li:\n",
    "        if n not in unique:\n",
    "            unique.append(n)\n",
    "    unique = sorted(unique,reverse = False)\n",
    "    print(unique)\n",
    "    return unique[4]\n",
    "fifthLeast([1,2,3,4,5,6,7,8,7,7])"
   ]
  },
  {
   "cell_type": "code",
   "execution_count": 41,
   "metadata": {},
   "outputs": [
    {
     "name": "stdout",
     "output_type": "stream",
     "text": [
      "[9, 5, 4, 3, 2, 1]\n"
     ]
    },
    {
     "data": {
      "text/plain": [
       "9"
      ]
     },
     "execution_count": 41,
     "metadata": {},
     "output_type": "execute_result"
    }
   ],
   "source": [
    "def kLargest(li,k):\n",
    "    unique =[]\n",
    "    for n in li:\n",
    "        if n not in unique:\n",
    "            unique.append(n)\n",
    "    unique = sorted(unique,reverse = True)\n",
    "    print(unique)\n",
    "    return unique[-k]\n",
    "    \n",
    "kLargest([1,2,3,4,5,1,3,5,9],6)\n"
   ]
  },
  {
   "cell_type": "code",
   "execution_count": 40,
   "metadata": {},
   "outputs": [
    {
     "data": {
      "text/plain": [
       "9"
      ]
     },
     "execution_count": 40,
     "metadata": {},
     "output_type": "execute_result"
    }
   ],
   "source": [
    "def kSmallest(li,k):\n",
    "    unique=[]\n",
    "    for i in li:\n",
    "        if i not in unique:\n",
    "            unique.append(i)\n",
    "    \n",
    "        unique = sorted(unique)\n",
    "    \n",
    "    if len(unique) >= k:\n",
    "        return unique[k-1]\n",
    "        \n",
    "    return -1\n",
    "\n",
    "\n",
    "kSmallest([3 ,3,4,4,5,6,7,78,9],6)\n",
    "\n",
    "    \n",
    "        "
   ]
  },
  {
   "cell_type": "code",
   "execution_count": 53,
   "metadata": {},
   "outputs": [
    {
     "data": {
      "text/plain": [
       "3"
      ]
     },
     "execution_count": 53,
     "metadata": {},
     "output_type": "execute_result"
    }
   ],
   "source": [
    "# Function to identify the element with hightest frequency in a list\n",
    "\n",
    "def highestFrequencyElementUsingDict(li):\n",
    "    unique = {}\n",
    "    for n in li:\n",
    "        if n not in unique:\n",
    "            unique[n] = 1\n",
    "        else:\n",
    "            unique[n] += 1\n",
    "            \n",
    "    freq = unique.values()\n",
    "    maxfreq = max(freq)\n",
    "    maxfreqE =[]\n",
    "    \n",
    "    for item in unique.items():\n",
    "        if item[1] == maxfreq:\n",
    "            maxfreqE.append(item[0])\n",
    "    return min(maxfreqE)\n",
    "              \n",
    "        \n",
    "            \n",
    "highestFrequencyElementUsingDict([1,2,3,9,8,7,3,3,3,2,1,10])            "
   ]
  },
  {
   "cell_type": "code",
   "execution_count": 54,
   "metadata": {},
   "outputs": [
    {
     "data": {
      "text/plain": [
       "2"
      ]
     },
     "execution_count": 54,
     "metadata": {},
     "output_type": "execute_result"
    }
   ],
   "source": [
    "def highestFrequencyElement(li):\n",
    "    unique = []\n",
    "    for n in li:\n",
    "        if n not in unique:\n",
    "            unique.append(n)\n",
    "    unique = sorted(unique,reverse = True)\n",
    "    highest = unique[0]\n",
    "    abc = 0\n",
    "    for i in range(0,len(li)):\n",
    "        if li[i] == highest:\n",
    "            abc+=1\n",
    "   #c = unique.count(unique[0])\n",
    "    return abc\n",
    "#highestFrequencyElement([90,22,34,55,80,80,20,80,45,65,90,90,90,90,])\n",
    "highestFrequencyElement([1,2,3,2,1,4,4])"
   ]
  },
  {
   "cell_type": "code",
   "execution_count": 71,
   "metadata": {},
   "outputs": [
    {
     "name": "stdout",
     "output_type": "stream",
     "text": [
      "{1: 2, 2: 2, 3: 1, 4: 2, 9: 1}\n"
     ]
    },
    {
     "data": {
      "text/plain": [
       "3"
      ]
     },
     "execution_count": 71,
     "metadata": {},
     "output_type": "execute_result"
    }
   ],
   "source": [
    "# Second Highest Frequency\n",
    "# [1,2,3,2,1,4,4,9] ---> 3\n",
    "\n",
    "def secondHighestFrequency(li):\n",
    "    unique = {}\n",
    "    for n in li:\n",
    "        if n not in unique:\n",
    "            unique[n] = 1\n",
    "        else:\n",
    "            unique[n] += 1\n",
    "            \n",
    "    print(unique)\n",
    "    \n",
    "    freq = unique.values()\n",
    "    maxfreq = max(freq)\n",
    "    \n",
    "    max1 = 0\n",
    "    for j in unique.values():\n",
    "        if j>max1 and j<maxfreq:\n",
    "            max2 = j\n",
    "            \n",
    "    maxfreqkeys=[]\n",
    "\n",
    "    for item in unique.items():\n",
    "        if item[1] == max2:\n",
    "            maxfreqkeys.append(item[0])\n",
    "            \n",
    "    return min(maxfreqkeys)\n",
    "\n",
    "secondHighestFrequency([1,2,3,2,1,4,4,9])    \n",
    "   \n"
   ]
  },
  {
   "cell_type": "code",
   "execution_count": 74,
   "metadata": {},
   "outputs": [
    {
     "name": "stdout",
     "output_type": "stream",
     "text": [
      "{1: 2, 2: 2, 3: 1, 4: 2, 9: 1}\n",
      "[3, 9]\n"
     ]
    },
    {
     "data": {
      "text/plain": [
       "9"
      ]
     },
     "execution_count": 74,
     "metadata": {},
     "output_type": "execute_result"
    }
   ],
   "source": [
    "# Kth highest frequency\n",
    "\n",
    "def KthHighestFrequency(li,k):\n",
    "    unique = {}\n",
    "    for n in li:\n",
    "        if n not in unique:\n",
    "            unique[n] = 1\n",
    "        else:\n",
    "            unique[n] += 1\n",
    "            \n",
    "    print(unique)\n",
    "    \n",
    "    freq = unique.values()\n",
    "    maxfreq = max(freq)\n",
    "    \n",
    "    max1 = 0\n",
    "    for j in unique.values():\n",
    "        if j>max1 and j<maxfreq:\n",
    "            max2 = j\n",
    "            \n",
    "    maxfreqkeys=[]\n",
    "\n",
    "    for item in unique.items():\n",
    "        if item[1] == max2:\n",
    "            maxfreqkeys.append(item[0])\n",
    "    print(maxfreqkeys)\n",
    "    return maxfreqkeys[k-1]\n",
    "\n",
    "KthHighestFrequency([1,2,3,2,1,4,4,9],2)    \n",
    "   "
   ]
  },
  {
   "cell_type": "code",
   "execution_count": 61,
   "metadata": {},
   "outputs": [
    {
     "name": "stdout",
     "output_type": "stream",
     "text": [
      "s\n",
      "g\n",
      "h\n",
      "e\n",
      "w\n",
      "r\n",
      "n\n",
      "k\n"
     ]
    },
    {
     "ename": "IndexError",
     "evalue": "list index out of range",
     "output_type": "error",
     "traceback": [
      "\u001b[1;31m---------------------------------------------------------------------------\u001b[0m",
      "\u001b[1;31mIndexError\u001b[0m                                Traceback (most recent call last)",
      "\u001b[1;32m<ipython-input-61-a8a8df9ccb27>\u001b[0m in \u001b[0;36m<module>\u001b[1;34m\u001b[0m\n\u001b[0;32m     50\u001b[0m         \u001b[1;31m#print(s, k)\u001b[0m\u001b[1;33m\u001b[0m\u001b[1;33m\u001b[0m\u001b[1;33m\u001b[0m\u001b[0m\n\u001b[0;32m     51\u001b[0m         \u001b[1;31m#print(k, end = \" \")\u001b[0m\u001b[1;33m\u001b[0m\u001b[1;33m\u001b[0m\u001b[1;33m\u001b[0m\u001b[0m\n\u001b[1;32m---> 52\u001b[1;33m         \u001b[0mprint\u001b[0m\u001b[1;33m(\u001b[0m\u001b[0mKthHighestFrequency\u001b[0m\u001b[1;33m(\u001b[0m\u001b[0ms\u001b[0m\u001b[1;33m,\u001b[0m\u001b[0mk\u001b[0m\u001b[1;33m)\u001b[0m\u001b[1;33m)\u001b[0m\u001b[1;33m\u001b[0m\u001b[1;33m\u001b[0m\u001b[0m\n\u001b[0m\u001b[0;32m     53\u001b[0m \u001b[1;33m\u001b[0m\u001b[0m\n\u001b[0;32m     54\u001b[0m \u001b[1;33m\u001b[0m\u001b[0m\n",
      "\u001b[1;32m<ipython-input-61-a8a8df9ccb27>\u001b[0m in \u001b[0;36mKthHighestFrequency\u001b[1;34m(s, k)\u001b[0m\n\u001b[0;32m     27\u001b[0m     \u001b[1;31m#print(k, end = \" \")\u001b[0m\u001b[1;33m\u001b[0m\u001b[1;33m\u001b[0m\u001b[1;33m\u001b[0m\u001b[0m\n\u001b[0;32m     28\u001b[0m \u001b[1;33m\u001b[0m\u001b[0m\n\u001b[1;32m---> 29\u001b[1;33m     \u001b[0mkfreq\u001b[0m \u001b[1;33m=\u001b[0m \u001b[0muniquefreq\u001b[0m\u001b[1;33m[\u001b[0m\u001b[0mk\u001b[0m\u001b[1;33m-\u001b[0m\u001b[1;36m1\u001b[0m\u001b[1;33m]\u001b[0m\u001b[1;33m\u001b[0m\u001b[1;33m\u001b[0m\u001b[0m\n\u001b[0m\u001b[0;32m     30\u001b[0m \u001b[1;33m\u001b[0m\u001b[0m\n\u001b[0;32m     31\u001b[0m     \u001b[0mkfreqchar\u001b[0m \u001b[1;33m=\u001b[0m \u001b[1;33m[\u001b[0m\u001b[1;33m]\u001b[0m\u001b[1;33m\u001b[0m\u001b[1;33m\u001b[0m\u001b[0m\n",
      "\u001b[1;31mIndexError\u001b[0m: list index out of range"
     ]
    }
   ],
   "source": [
    "# Kth HighestFrequency\n",
    "# Sir Explanation\n",
    "\n",
    "def KthHighestFrequency(s,k):\n",
    "    # Unique characters with frequencies\n",
    "    \n",
    "    unique = {}\n",
    "    for c in s:\n",
    "        if c not in unique:\n",
    "            unique[c] = 1\n",
    "        else:\n",
    "            unique[c] += 1\n",
    "            \n",
    "    # unique = {9:2,8:1,7:5,6:4,5:1,4:}        \n",
    "    #return unique\n",
    "    \n",
    "    # Extract all unique frequencies in a list\n",
    "    # uniquefreq=[2,1,5,4]\n",
    "    \n",
    "    uniquefreq = []\n",
    "    for value in unique.values():\n",
    "        if value not in uniquefreq:\n",
    "            uniquefreq.append(value)\n",
    "    \n",
    "    uniquefreq = sorted(uniquefreq,reverse = True)\n",
    "    #print(uniquefreq)\n",
    "    #print(k, end = \" \")\n",
    "\n",
    "    kfreq = uniquefreq[k-1]\n",
    "        \n",
    "    kfreqchar = []\n",
    "    for item in unique.items():\n",
    "        if item[1] == kfreq:\n",
    "            kfreqchar.append(item[0])\n",
    "            \n",
    "    if len(kfreqchar)==1:\n",
    "        return kfreqchar[0]\n",
    "    elif len(kfreqchar)> 1:\n",
    "        return min(kfreqchar)\n",
    "    else:\n",
    "        return -1\n",
    "            \n",
    "    #return kfreqchar\n",
    "        \n",
    "with open('Datafiles/k-largest-frequency-input.txt','r') as f:\n",
    "    t = int(f.readline())\n",
    "    for i in range(t):\n",
    "        s = f.readline()\n",
    "        k = int(f.readline())\n",
    "        #print(s, k)\n",
    "        #print(k, end = \" \")\n",
    "        print(KthHighestFrequency(s,k))\n",
    "    \n",
    "    \n",
    "#KthHighestFrequency()"
   ]
  },
  {
   "cell_type": "code",
   "execution_count": 65,
   "metadata": {},
   "outputs": [
    {
     "name": "stdout",
     "output_type": "stream",
     "text": [
      "s\n",
      "g\n",
      "h\n",
      "e\n",
      "w\n",
      "r\n",
      "n\n",
      "k\n",
      "-1\n",
      "-1\n"
     ]
    }
   ],
   "source": [
    "# Kth HighestFrequency\n",
    "# Sir Explanation\n",
    "\n",
    "def KthHighestFrequency(s,k):\n",
    "    # Unique characters with frequencies\n",
    "    \n",
    "    unique = {}\n",
    "    for c in s:\n",
    "        if c not in unique:\n",
    "            unique[c] = 1\n",
    "        else:\n",
    "            unique[c] += 1\n",
    "            \n",
    "    # unique = {9:2,8:1,7:5,6:4,5:1,4:}        \n",
    "    #return unique\n",
    "    \n",
    "    # Extract all unique frequencies in a list\n",
    "    # uniquefreq=[2,1,5,4]\n",
    "    \n",
    "    uniquefreq = []\n",
    "    for value in unique.values():\n",
    "        if value not in uniquefreq:\n",
    "            uniquefreq.append(value)\n",
    "    \n",
    "    uniquefreq = sorted(uniquefreq,reverse = True)\n",
    "    #print(uniquefreq)\n",
    "    #print(k, end = \" \")\n",
    "    if(len(uniquefreq)>k):\n",
    "        kfreq = uniquefreq[k-1]\n",
    "    else:\n",
    "        #print(k)\n",
    "        return -1\n",
    "        \n",
    "    kfreqchar = []\n",
    "    for item in unique.items():\n",
    "        if item[1] == kfreq:\n",
    "            kfreqchar.append(item[0])\n",
    "            \n",
    "    if len(kfreqchar)==1:\n",
    "        return kfreqchar[0]\n",
    "    elif len(kfreqchar)>= 1:\n",
    "        return min(kfreqchar)\n",
    "            \n",
    "    #return kfreqchar\n",
    "        \n",
    "with open('Datafiles/k-largest-frequency-input.txt','r') as f:\n",
    "    t = int(f.readline())\n",
    "    for i in range(t):\n",
    "        s = f.readline()\n",
    "        k = int(f.readline())\n",
    "        #print(s, k)\n",
    "        #print(k, end = \" \")\n",
    "        print(KthHighestFrequency(s,k))\n",
    "    \n",
    "    \n",
    "#KthHighestFrequency()\n"
   ]
  },
  {
   "cell_type": "code",
   "execution_count": null,
   "metadata": {},
   "outputs": [],
   "source": []
  }
 ],
 "metadata": {
  "kernelspec": {
   "display_name": "Python 3",
   "language": "python",
   "name": "python3"
  },
  "language_info": {
   "codemirror_mode": {
    "name": "ipython",
    "version": 3
   },
   "file_extension": ".py",
   "mimetype": "text/x-python",
   "name": "python",
   "nbconvert_exporter": "python",
   "pygments_lexer": "ipython3",
   "version": "3.7.3"
  }
 },
 "nbformat": 4,
 "nbformat_minor": 2
}
