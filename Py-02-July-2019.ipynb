{
 "cells": [
  {
   "cell_type": "markdown",
   "metadata": {},
   "source": [
    "#### App Store Dataset\n",
    "- List of unique Prime_Genres(Categories) in the data set\n",
    "\n",
    "- Category with highest number of apps\n",
    "\n",
    "- Category with lowest number of apps\n",
    "\n",
    "- Category with apps having highest user rating\n",
    "\n",
    "- Apps with highest downloads\n",
    "\n",
    "- Category with highest average rating count\n",
    "\n",
    "- Average user ratings for free apps\n",
    "\n",
    "- Average user rating for paid apps\n",
    "\n",
    "- Category with highest user avg rating for paid apps\n",
    "\n",
    "- Most frequent Price point > 0\n",
    "\n",
    "- Compare with highest average user rating for paid apps"
   ]
  },
  {
   "cell_type": "code",
   "execution_count": null,
   "metadata": {},
   "outputs": [],
   "source": []
  },
  {
   "cell_type": "code",
   "execution_count": null,
   "metadata": {},
   "outputs": [],
   "source": []
  }
 ],
 "metadata": {
  "kernelspec": {
   "display_name": "Python 3",
   "language": "python",
   "name": "python3"
  },
  "language_info": {
   "codemirror_mode": {
    "name": "ipython",
    "version": 3
   },
   "file_extension": ".py",
   "mimetype": "text/x-python",
   "name": "python",
   "nbconvert_exporter": "python",
   "pygments_lexer": "ipython3",
   "version": "3.7.3"
  }
 },
 "nbformat": 4,
 "nbformat_minor": 2
}
