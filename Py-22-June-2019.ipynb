{
 "cells": [
  {
   "cell_type": "markdown",
   "metadata": {},
   "source": [
    "#### Day Objectives\n",
    "- File Handling\n",
    "    - Basic File Data Processing\n",
    "        - Accessing and Modifying File Data\n",
    "    - Character Count\n",
    "    - Line Count\n",
    "    - File Size\n",
    "    - Word Count\n",
    "    - Unique Word Count\n",
    "    "
   ]
  },
  {
   "cell_type": "code",
   "execution_count": null,
   "metadata": {},
   "outputs": [],
   "source": [
    "# Word Count\n",
    "\n",
    "count = 0\n",
    "word = \"prasannaraj\"\n",
    "print(\"Total String Count is :\",len(word))\n",
    "for i in word: \n",
    "    if i == \"a\": \n",
    "        count = count + 1\n",
    "print (\"Count is : \"+ str(count))"
   ]
  },
  {
   "cell_type": "code",
   "execution_count": null,
   "metadata": {},
   "outputs": [],
   "source": [
    "# Read a File - File Should exist\n",
    "# Write to a File - Existing or new file\n",
    "filepath = 'Datafiles/data.txt'\n",
    "def readFile(filepath):\n",
    "    with open(filepath, 'r') as f:\n",
    "        filedata = f.read()\n",
    "        #print(type(f))\n",
    "    return filedata\n",
    "\n",
    "print(readFile(filepath))  "
   ]
  },
  {
   "cell_type": "code",
   "execution_count": 12,
   "metadata": {},
   "outputs": [
    {
     "name": "stdout",
     "output_type": "stream",
     "text": [
      "38\n"
     ]
    }
   ],
   "source": [
    "# Character Count\n",
    "def charCount(filepath):\n",
    "    with open(filepath,'r') as f:\n",
    "        characters=0\n",
    "        word = 0\n",
    "        \n",
    "        for line in f:\n",
    "            wordslist=line.strip().split()\n",
    "            word=word+len(wordslist)\n",
    "            characters += sum(len(word) for word in wordslist)\n",
    "    \n",
    "    print(characters)\n",
    "    \n",
    "filepath = 'Datafiles/data.txt'    \n",
    "charCount(filepath)\n",
    "#ype(charCount(filepath))"
   ]
  },
  {
   "cell_type": "code",
   "execution_count": 1,
   "metadata": {},
   "outputs": [
    {
     "name": "stdout",
     "output_type": "stream",
     "text": [
      "0.038KB\n"
     ]
    }
   ],
   "source": [
    "def fileSize(filepath):\n",
    "    c = 0\n",
    "    with open(filepath,'r') as f:\n",
    "        for line in f:\n",
    "            line = line.strip().split()\n",
    "            for j in line:\n",
    "                c += len(j)\n",
    "    if(c==1000):\n",
    "        print(\"1KB\")\n",
    "    elif(c>1000 or c<1000):\n",
    "        v = c/1000\n",
    "        print(str(v)+\"KB\")\n",
    "            \n",
    "            \n",
    "        \n",
    "    \n",
    "filepath = \"Datafiles/data.txt\"\n",
    "\n",
    "fileSize(filepath)\n"
   ]
  },
  {
   "cell_type": "code",
   "execution_count": 2,
   "metadata": {},
   "outputs": [
    {
     "name": "stdout",
     "output_type": "stream",
     "text": [
      "Total Lines Count is :  3\n"
     ]
    }
   ],
   "source": [
    "# Line Count \n",
    "\n",
    "def lineCount(filepath):\n",
    "    \n",
    "    lines = 0\n",
    "    with open(filepath , 'r') as f:\n",
    "        for line in f:\n",
    "            lines += 1\n",
    "            \n",
    "        print(\"Total Lines Count is : \",lines)\n",
    "\n",
    "filepath = 'Datafiles/data.txt'   \n",
    "lineCount(filepath)"
   ]
  },
  {
   "cell_type": "code",
   "execution_count": 11,
   "metadata": {},
   "outputs": [
    {
     "name": "stdout",
     "output_type": "stream",
     "text": [
      "38\n"
     ]
    }
   ],
   "source": [
    "def charCount(filepath):\n",
    "    c = 0\n",
    "    with open(filepath,'r') as f:\n",
    "        for line in f:\n",
    "            line = line.strip().split()\n",
    "            for j in line:\n",
    "                c += len(j)\n",
    "        print(c)\n",
    "filepath = \"Datafiles/data.txt\"\n",
    "\n",
    "charCount(filepath)\n"
   ]
  },
  {
   "cell_type": "code",
   "execution_count": null,
   "metadata": {},
   "outputs": [],
   "source": []
  }
 ],
 "metadata": {
  "kernelspec": {
   "display_name": "Python 3",
   "language": "python",
   "name": "python3"
  },
  "language_info": {
   "codemirror_mode": {
    "name": "ipython",
    "version": 3
   },
   "file_extension": ".py",
   "mimetype": "text/x-python",
   "name": "python",
   "nbconvert_exporter": "python",
   "pygments_lexer": "ipython3",
   "version": "3.7.3"
  }
 },
 "nbformat": 4,
 "nbformat_minor": 2
}
