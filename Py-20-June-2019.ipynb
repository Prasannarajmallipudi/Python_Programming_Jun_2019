{
 "cells": [
  {
   "cell_type": "markdown",
   "metadata": {},
   "source": [
    "#### Day Objectives\n",
    "- Regular Expression \n",
    "  - Constructing Regular Expression for various use cases\n",
    "  - Regular Expression Module and related in Python\n",
    "  - Improving Contacts application with name and phone number  validation \n",
    "- File Handling\n",
    "  - Text Files\n",
    "  - Upgrading the contacts Application to store contact information in a text file"
   ]
  },
  {
   "cell_type": "markdown",
   "metadata": {},
   "source": [
    "#### Regular Expression\n",
    "- Pattern Matching\n",
    "- Symbolic Notation of a Pattern\n",
    "    - Pattern : Format which repeats\n",
    "    - Pattern(RE) : the set of all strings matche that a pettern\n",
    "- [0-9]  -> Any Digit\n",
    "- [a-z]  -> Any Lower Case alphabets\n",
    "- [A-Z]  -> Any Upper CAse Alphabets\n",
    "- [2468] -> All single digit multiples of 2\n",
    "- [0-9]{1} -> Only single digit number\n",
    "- [0-9]{3} -> Only three digit numbers are highlets\n",
    "- [0-9]*0$ -> all multiple \n",
    "- ^[1-9][0-9]*[05]$] -> All multiple of 5\n",
    "- [w][o][r][d] or (word)  -> Search word \n",
    "- []-> all multiple 10 digit numbers\n",
    "- ^[6-9].{9}$  -> VAlidating phone number (India) (start with 6789)\n",
    "- ^[1-9][0-9]{9}$\n",
    "- ^[a-z A-Z 0-9].*[a-z].[a-z]$ \n",
    "    -> Email Vaidation(username@domain.extenstiion)\n",
    "\n",
    "        - USERNAME\n",
    "            - Length of username : (6,15)\n",
    "            - No special character other than _ *\n",
    "            - Should not begin and end with _*\n",
    "            - Character set : all digits and lower case alphabet\n",
    "            \n",
    "        - DOMAIN\n",
    "            - Length of domain : (3,18)\n",
    "                - No Speacial Characters\n",
    "                - Character set : all digits and lower case alphabet\n",
    "                \n",
    "            \n",
    "        - EXTENSTION\n",
    "            - Length of EXTENSTION : (2,4)\n",
    "                - No Speacial Characters\n",
    "                - Character set : all lower casealphabet\n",
    "\n",
    "- ^[a-z0-9][0-9a-z_.]{4,13}+@[a-z0-9]{3,18}.[a-z]{2,4}$\n",
    "\n",
    "- pattern='^[6-9][0-9]{9}$|^[0][6-9][0-9]{9}'\n",
    "\n",
    "- -> Any string of length 5 that starts with 'a' and 'z'\n",
    "        - > ^[a].*[z]$  -- Any string lengthn that start \"a\" and \"z\" "
   ]
  },
  {
   "cell_type": "code",
   "execution_count": 20,
   "metadata": {},
   "outputs": [
    {
     "name": "stdout",
     "output_type": "stream",
     "text": [
      "Valid\n"
     ]
    }
   ],
   "source": [
    "# Function to validate a phone number in python\n",
    "\n",
    "import re\n",
    "def phoneNumbers(number):\n",
    "    pattern = '^[6-9].{9}$'\n",
    "    if re.match(pattern,str(number)):\n",
    "        print(\"Valid\")\n",
    "    else:\n",
    "        print(\"NOt Valid\")\n",
    "    return\n",
    "    \n",
    "    \n",
    "phoneNumbers(8328332266)"
   ]
  },
  {
   "cell_type": "code",
   "execution_count": 19,
   "metadata": {},
   "outputs": [
    {
     "name": "stdout",
     "output_type": "stream",
     "text": [
      "Valid number\n",
      "[8328332266]\n"
     ]
    }
   ],
   "source": [
    "import re\n",
    "list=[]\n",
    "def phoneNumbersss(phone):\n",
    "   pattern = '^[9876][0-9]{9}$|^[0][6-9][0-9]{9}$|^[+][9][1][6-9][0-9]{9}$'\n",
    "   if re.match(pattern, str(phone)):\n",
    "       print(\"Valid number\")\n",
    "       list.append(phone)\n",
    "   else:\n",
    "       print(\"Invalid Number\")\n",
    "   return\n",
    "phoneNumbersss(8328332266)  \n",
    "print(list)"
   ]
  },
  {
   "cell_type": "code",
   "execution_count": 21,
   "metadata": {},
   "outputs": [
    {
     "data": {
      "text/plain": [
       "True"
      ]
     },
     "execution_count": 21,
     "metadata": {},
     "output_type": "execute_result"
    }
   ],
   "source": [
    "def emailValidator(email):\n",
    "   pattern = '^[a-z0-9][0-9a-z_.]{3,14}[@][a-z0-9.]{3,18}[.][a-z]{2,4}$'\n",
    "   if re.match(pattern, email):\n",
    "       return True\n",
    "   return False\n",
    "emailValidator('prasannaraj@gmail.com') \n"
   ]
  },
  {
   "cell_type": "code",
   "execution_count": 26,
   "metadata": {},
   "outputs": [
    {
     "name": "stdout",
     "output_type": "stream",
     "text": [
      "Valid\n",
      "Valid\n",
      "prasannaraj@gmail.com email number is valid\n"
     ]
    }
   ],
   "source": [
    "def addContacts(name, phone, email):\n",
    "    if name not in contacts and phoneNumbers(phone):\n",
    "        \n",
    "        contacts[name] = phone      \n",
    "        print(\"contact %s added\" % name)\n",
    "    if phoneNumbers(phone):\n",
    "        print(\"%s Phone number is valid\" % phone)\n",
    "    if emailValidator(email):\n",
    "    \n",
    "    \n",
    "       print(\"%s email number is valid\" % email)\n",
    "    return\n",
    "    \n",
    "\n",
    "addContacts('prasannaraj', 8328332266,'prasannaraj@gmail.com')"
   ]
  },
  {
   "cell_type": "code",
   "execution_count": 29,
   "metadata": {},
   "outputs": [
    {
     "name": "stdout",
     "output_type": "stream",
     "text": [
      "prasannaraj does not exits\n"
     ]
    }
   ],
   "source": [
    "def searchContacts(name):\n",
    "    if name in contacts:\n",
    "        print(name)\n",
    "        print(\"Phone :\",contacts[name][0])\n",
    "        print(\"Email :\",contacts[name][0])\n",
    "        #print(\"Phone :\",contacts[name][0])\n",
    "    else:\n",
    "        print(\"%s does not exits\" % name)\n",
    "    return\n",
    "\n",
    "searchContacts(\"prasannaraj\")    "
   ]
  },
  {
   "cell_type": "code",
   "execution_count": null,
   "metadata": {},
   "outputs": [],
   "source": [
    "def cipher(S, K):\n",
    "   result = \"\"\n",
    "   for i in S:\n",
    "       if i.isupper():\n",
    "           result += chr(65+(ord(i)+k-65) % 26)\n",
    "       elif i.islower():\n",
    "           result += chr(97+(ord(i)+k-97) % 26)\n",
    "       elif i.isnumeric():\n",
    "           result += str((int(i) + k) % 10)\n",
    "       else:\n",
    "           result += i\n",
    "   print(result)\n",
    "S=input()\n",
    "K=int(input())\n",
    "cipher(S,K)"
   ]
  },
  {
   "cell_type": "code",
   "execution_count": null,
   "metadata": {},
   "outputs": [],
   "source": []
  },
  {
   "cell_type": "markdown",
   "metadata": {},
   "source": [
    "#### File Handling in Python\n",
    "\n",
    "File : Document containing information residing\n",
    "Types - Text,PDF,CSV,...etc\n",
    "\n",
    "File I/O - Channeling data I/O data to files\n",
    "Default I/O channels - Keyboard / Screen\n",
    "\n",
    "Change I/O channel to files for reading and writting into file\n",
    "\n",
    "Read a file - Input from a file \n",
    "Write to a file - Output to a file\n",
    "\n",
    "\n",
    "Read/write a file - open(filename,mode)\n",
    "\n",
    "\n",
    "\n",
    "\n",
    "\n",
    "\n"
   ]
  },
  {
   "cell_type": "code",
   "execution_count": 52,
   "metadata": {},
   "outputs": [
    {
     "name": "stdout",
     "output_type": "stream",
     "text": [
      "Welcome1\n",
      "Welcome2\n",
      "Welcome3\n"
     ]
    }
   ],
   "source": [
    "# Function to read a file\n",
    "\n",
    "def readFile(filename):\n",
    "    a=open(filename,'r')\n",
    "    filedata = a.read()\n",
    "    a.close()\n",
    "    return filedata\n",
    "    \n",
    "    \n",
    "filename = 'Datafiles/data.txt'\n",
    "filedata = readFile(filename)\n",
    "#for line in filedata.split('\\n'):\n",
    "#    print(line)\n",
    "    \n",
    "def printFileDataLines(filename):\n",
    "    with open(filename,'r') as f:\n",
    "        \n",
    "        for i in f:\n",
    "            print(i,end=\" \")\n",
    "    return\n",
    "\n",
    "#printFileDataLines(filename)\n",
    "print(readFile(filename))"
   ]
  },
  {
   "cell_type": "code",
   "execution_count": 3,
   "metadata": {},
   "outputs": [],
   "source": [
    "# Function to write data into a file\n",
    "\n",
    "def writeIntoFile(filename,filedata):\n",
    "    with open(filename, 'w') as f:\n",
    "        f.write(filedata)\n",
    "    return\n",
    "filename = 'Datafiles/data.txt'\n",
    "writeIntoFile(filename,\"New Data Adding\") "
   ]
  },
  {
   "cell_type": "code",
   "execution_count": 4,
   "metadata": {},
   "outputs": [],
   "source": [
    "# Function to append data into a file\n",
    "\n",
    "def appendIntoFile(filename,filedata):\n",
    "    with open(filename,'a') as f:\n",
    "        f.writelines(filedata)\n",
    "    return\n",
    "#filename = 'Datafiles/data.txt'\n",
    "filedata = \"\\n New Data Append1\\n Prasanna Raj\"\n",
    "appendIntoFile(filename,filedata)"
   ]
  },
  {
   "cell_type": "code",
   "execution_count": 64,
   "metadata": {},
   "outputs": [],
   "source": [
    "# Function to append data into a file\n",
    "\n",
    "def appendIntoFiles(filename,filedata):\n",
    "    with open(filename,'a') as f:\n",
    "        for line in filedata:\n",
    "            \n",
    "            f.write(line+'\\n')\n",
    "    return\n",
    "#filename = 'Datafiles/data.txt'\n",
    "#filedata = \"\\n New Data Append1\\n Prasanna Raj\"\n",
    "filedata = [\"line5\",\"Line6\"]\n",
    "appendIntoFiles(filename,filedata)"
   ]
  },
  {
   "cell_type": "code",
   "execution_count": null,
   "metadata": {},
   "outputs": [],
   "source": []
  }
 ],
 "metadata": {
  "kernelspec": {
   "display_name": "Python 3",
   "language": "python",
   "name": "python3"
  },
  "language_info": {
   "codemirror_mode": {
    "name": "ipython",
    "version": 3
   },
   "file_extension": ".py",
   "mimetype": "text/x-python",
   "name": "python",
   "nbconvert_exporter": "python",
   "pygments_lexer": "ipython3",
   "version": "3.7.3"
  }
 },
 "nbformat": 4,
 "nbformat_minor": 2
}
